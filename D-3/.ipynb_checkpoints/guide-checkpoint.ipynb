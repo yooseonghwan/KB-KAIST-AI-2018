{
 "cells": [
  {
   "cell_type": "markdown",
   "metadata": {},
   "source": [
    "# 라이브러리 가이드 문서\n",
    "\n",
    "이 문서에는 Jupyter Notebook 사용법과 Numpy, Scipy, Pandas, 그리고 Scikit-learn 라이브러리에 대한 사용법에 대한 간단한 설명이 되어있습니다. 자세한 사용 방법은 아래의 공식 웹 사이트를 참고하세요.\n",
    "\n",
    "- [Jupyter](http://jupyter-notebook.readthedocs.io/en/latest/)\n",
    "- [Numpy](https://docs.scipy.org/doc/numpy-1.13.0/reference/), [Scipy](https://docs.scipy.org/doc/scipy/reference/)\n",
    "- [Matplotlib](https://matplotlib.org/api/pyplot_summary.html)\n",
    "- [Pandas](http://pandas.pydata.org/pandas-docs/stable/10min.html)\n",
    "- [scikit-learn](http://scikit-learn.org/stable/modules/linear_model.html)"
   ]
  },
  {
   "cell_type": "markdown",
   "metadata": {},
   "source": [
    "# Jupyter\n",
    "\n",
    "Jupyter는 오픈소스 웹 어플리케이션으로, 1) python 코드를 cell 단위 작성 및 실행할 수 있고, 2) 그림 또는 표를 시각화할 수 있습니다."
   ]
  },
  {
   "cell_type": "code",
   "execution_count": 1,
   "metadata": {},
   "outputs": [
    {
     "ename": "SyntaxError",
     "evalue": "Missing parentheses in call to 'print'. Did you mean print(i)? (<ipython-input-1-f2323915b179>, line 5)",
     "output_type": "error",
     "traceback": [
      "\u001b[1;36m  File \u001b[1;32m\"<ipython-input-1-f2323915b179>\"\u001b[1;36m, line \u001b[1;32m5\u001b[0m\n\u001b[1;33m    print i\u001b[0m\n\u001b[1;37m          ^\u001b[0m\n\u001b[1;31mSyntaxError\u001b[0m\u001b[1;31m:\u001b[0m Missing parentheses in call to 'print'. Did you mean print(i)?\n"
     ]
    }
   ],
   "source": [
    "# 이 영역을 하나의 cell이라 부릅니다.\n",
    "# 이 영역에 코드를 작성한 후, Shift+Enter를 누르시면 cell 단위로 코드를 실행하실 수 있습니다.\n",
    "# 위의 Insert > Insert Cell Above & Insert Cell Below 를 통해서 cell을 위 혹은 아래에 추가할 수 있습니다.\n",
    "for i in range(5):\n",
    "    print i\n",
    "print 'hello, world!'"
   ]
  },
  {
   "cell_type": "code",
   "execution_count": 2,
   "metadata": {},
   "outputs": [
    {
     "ename": "SyntaxError",
     "evalue": "Missing parentheses in call to 'print'. Did you mean print(z)? (<ipython-input-2-58a0e119beca>, line 4)",
     "output_type": "error",
     "traceback": [
      "\u001b[1;36m  File \u001b[1;32m\"<ipython-input-2-58a0e119beca>\"\u001b[1;36m, line \u001b[1;32m4\u001b[0m\n\u001b[1;33m    print z\u001b[0m\n\u001b[1;37m          ^\u001b[0m\n\u001b[1;31mSyntaxError\u001b[0m\u001b[1;31m:\u001b[0m Missing parentheses in call to 'print'. Did you mean print(z)?\n"
     ]
    }
   ],
   "source": [
    "# In [n] 은 현재 cell이 n번째로 실행이 되었다는 것을 의미합니다.\n",
    "# cell 단위로 실행되기 때문에, cell의 순서와 상관없이 실행시킬 수 있습니다.\n",
    "\n",
    "print z"
   ]
  },
  {
   "cell_type": "code",
   "execution_count": null,
   "metadata": {},
   "outputs": [],
   "source": [
    "z = \"hello\""
   ]
  },
  {
   "cell_type": "markdown",
   "metadata": {},
   "source": [
    "# Numpy & Scipy\n",
    "\n",
    "numpy와 scipy는 수학과 관련된 연산(행렬 연산, 확률 분포 등)을 효율적으로 해주는 라이브러리입니다."
   ]
  },
  {
   "cell_type": "code",
   "execution_count": null,
   "metadata": {},
   "outputs": [],
   "source": [
    "# numpy와 scipy를 사용하기 위해 import를 먼저 해줍니다.\n",
    "import numpy as np\n",
    "import scipy as sp"
   ]
  },
  {
   "cell_type": "code",
   "execution_count": null,
   "metadata": {},
   "outputs": [],
   "source": [
    "# 4x5 matrix 선언\n",
    "A = np.zeros([4, 5])\n",
    "print A"
   ]
  },
  {
   "cell_type": "code",
   "execution_count": null,
   "metadata": {},
   "outputs": [],
   "source": [
    "# 특정 위치의 값 바꾸기\n",
    "A[2, 3] = 1\n",
    "print A"
   ]
  },
  {
   "cell_type": "code",
   "execution_count": null,
   "metadata": {},
   "outputs": [],
   "source": [
    "# 특정 열의 값을 통째로 바꾸기\n",
    "A[:, 1] = 2\n",
    "print A"
   ]
  },
  {
   "cell_type": "code",
   "execution_count": null,
   "metadata": {},
   "outputs": [],
   "source": [
    "# 행렬곱 연산은 아래와 같이 할 수 있습니다.\n",
    "B = np.ones([2, 4])\n",
    "print B\n",
    "print np.matmul(B, A)"
   ]
  },
  {
   "cell_type": "markdown",
   "metadata": {},
   "source": [
    "# Matplotlib\n",
    "\n",
    "matplotlib는 plot을 쉽게 해줄 수 있는 python 라이브러리입니다."
   ]
  },
  {
   "cell_type": "code",
   "execution_count": null,
   "metadata": {},
   "outputs": [],
   "source": [
    "# matplotlib를 사용하기 위해 import를 먼저 해줍니다.\n",
    "import matplotlib.pyplot as plt\n",
    "\n",
    "# 아래의 코드는 notebook에서 바로 plot 결과를 볼 수 있도록 해줍니다.\n",
    "%matplotlib inline"
   ]
  },
  {
   "cell_type": "code",
   "execution_count": null,
   "metadata": {},
   "outputs": [],
   "source": [
    "X = []\n",
    "Y = []\n",
    "for x in range(1, 101):\n",
    "    X.append(x)\n",
    "    Y.append(np.log(x))\n",
    "\n",
    "# plt.plot(X, Y)는 (X[0], Y[0]), (X[1], Y[1]), ..., (X[N], Y[N]) 점들을 순서대로 그래프에 그려줍니다.\n",
    "# plot 함수는 기본적으로 선으로 점들을 이어줍니다.\n",
    "plt.plot(X, Y)"
   ]
  },
  {
   "cell_type": "code",
   "execution_count": null,
   "metadata": {},
   "outputs": [],
   "source": [
    "# 하지만 아래와 같이 선이 아닌 형태로 표현할 수도 있습니다.\n",
    "plt.plot(X, Y, '+')"
   ]
  },
  {
   "cell_type": "code",
   "execution_count": null,
   "metadata": {},
   "outputs": [],
   "source": [
    "# 또한, 색깔을 바꿀 수도 있습니다.\n",
    "plt.plot(X, Y, '+r')"
   ]
  },
  {
   "cell_type": "markdown",
   "metadata": {},
   "source": [
    "# Pandas\n",
    "\n",
    "Pandas는 데이터를 다루기 위한 라이브러리입니다. Pandas는 기본적으로 테이블(DataFrame)로 데이터를 다룹니다."
   ]
  },
  {
   "cell_type": "code",
   "execution_count": null,
   "metadata": {},
   "outputs": [],
   "source": [
    "# pandas 라이브러리를 import합니다\n",
    "import pandas as pd"
   ]
  },
  {
   "cell_type": "code",
   "execution_count": null,
   "metadata": {},
   "outputs": [],
   "source": [
    "d = {'col1': [1, 2, 3, 4], 'col2': ['x', 'y', 'z', 'w']}\n",
    "df = pd.DataFrame(d)"
   ]
  },
  {
   "cell_type": "code",
   "execution_count": null,
   "metadata": {},
   "outputs": [],
   "source": [
    "df"
   ]
  },
  {
   "cell_type": "code",
   "execution_count": null,
   "metadata": {},
   "outputs": [],
   "source": [
    "# 새로운 컬럼 추가\n",
    "df['col3'] = ['a', 'b', 'c', 'd']\n",
    "df['col4'] = df['col1'] ** 2\n",
    "df"
   ]
  },
  {
   "cell_type": "code",
   "execution_count": null,
   "metadata": {},
   "outputs": [],
   "source": [
    "df[1:3]"
   ]
  },
  {
   "cell_type": "markdown",
   "metadata": {},
   "source": [
    "# Scikit-learn\n",
    "\n",
    "scikit-learn은 machine learning에서 쓰이는 여러가지 방법들을 사용할 수 있는 라이브러리입니다. 본 수업에서는 regression만 다루기 때문에 regression에 대한 예제로 설명을 하도록 하겠습니다."
   ]
  },
  {
   "cell_type": "code",
   "execution_count": null,
   "metadata": {},
   "outputs": [],
   "source": [
    "# scikit-learn을 이용하기 위해 라이브러리를 import합니다.\n",
    "from sklearn.linear_model import LinearRegression"
   ]
  },
  {
   "cell_type": "markdown",
   "metadata": {},
   "source": [
    "## 데이터 생성"
   ]
  },
  {
   "cell_type": "code",
   "execution_count": null,
   "metadata": {},
   "outputs": [],
   "source": [
    "# 예제를 위해 간단한 데이터를 생성합니다.\n",
    "# X = [0, 1, 2, ..., 99]\n",
    "X = np.reshape(np.array(range(100), dtype=float), [100, 1])\n",
    "\n",
    "# Y = [0, 0.1, 0.2, ..., 9.9]\n",
    "Y = 0.1*X\n",
    "\n",
    "# 정규분포를 Y에 더해줌으로써 Y에 noise를 줍니다.\n",
    "Y += np.random.normal(size=[100, 1])\n",
    "\n",
    "# data를 plot해보면 아래와 같습니다.\n",
    "plt.plot(X, Y, 'o')"
   ]
  },
  {
   "cell_type": "markdown",
   "metadata": {},
   "source": [
    "## 모델 생성"
   ]
  },
  {
   "cell_type": "code",
   "execution_count": null,
   "metadata": {},
   "outputs": [],
   "source": [
    "# linear_model 중 Linear Regression 모델을 만듭니다.\n",
    "# linear regression: y = ax + b 또는 y = a_1 * x_1 + a_2 * x_2 + ... + a_n * x_n + b\n",
    "reg = LinearRegression()"
   ]
  },
  {
   "cell_type": "markdown",
   "metadata": {},
   "source": [
    "## 학습"
   ]
  },
  {
   "cell_type": "code",
   "execution_count": null,
   "metadata": {},
   "outputs": [],
   "source": [
    "# 데이터를 이용하여 모델을 학습시킵니다.\n",
    "reg.fit(X, Y)"
   ]
  },
  {
   "cell_type": "code",
   "execution_count": null,
   "metadata": {},
   "outputs": [],
   "source": [
    "# 학습 결과를 출력합니다.\n",
    "print 'weights:  ', reg.coef_\n",
    "print 'intercept:', reg.intercept_"
   ]
  },
  {
   "cell_type": "markdown",
   "metadata": {},
   "source": [
    "## 결과 확인"
   ]
  },
  {
   "cell_type": "code",
   "execution_count": null,
   "metadata": {},
   "outputs": [],
   "source": [
    "# 학습한 모델을 이용하여 X에 따른 추측값 Y_pred를 계산할 수 있습니다.\n",
    "Y_pred = np.matmul(X, reg.coef_) + reg.intercept_"
   ]
  },
  {
   "cell_type": "code",
   "execution_count": null,
   "metadata": {},
   "outputs": [],
   "source": [
    "# 실제 데이터와 모델을 그려보면 아래와 같습니다.\n",
    "plt.plot(X, Y, 'o')\n",
    "plt.plot(X, Y_pred, '-r')"
   ]
  },
  {
   "cell_type": "code",
   "execution_count": null,
   "metadata": {},
   "outputs": [],
   "source": []
  }
 ],
 "metadata": {
  "kernelspec": {
   "display_name": "Python 3",
   "language": "python",
   "name": "python3"
  },
  "language_info": {
   "codemirror_mode": {
    "name": "ipython",
    "version": 3
   },
   "file_extension": ".py",
   "mimetype": "text/x-python",
   "name": "python",
   "nbconvert_exporter": "python",
   "pygments_lexer": "ipython3",
   "version": "3.6.5"
  }
 },
 "nbformat": 4,
 "nbformat_minor": 2
}
