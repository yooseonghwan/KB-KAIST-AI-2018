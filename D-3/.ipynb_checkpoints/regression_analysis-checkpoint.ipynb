{
 "cells": [
  {
   "cell_type": "markdown",
   "metadata": {},
   "source": [
    "# Regression Analysis: 실습 프로젝트"
   ]
  },
  {
   "cell_type": "code",
   "execution_count": 5,
   "metadata": {
    "_cell_guid": "0d706811-b70c-aeab-a78b-3c7abd9978d3",
    "_uuid": "2b29e7d48eabd97fc426e96f4b1c3bdcff6ece6f"
   },
   "outputs": [],
   "source": [
    "# 실습에서 사용할 모듈을 import 합니다.\n",
    "# 이후의 셀을 실행하기 전에 항상 먼저 실행되어야 합니다. \n",
    "import pandas as pd\n",
    "import numpy as np\n",
    "import seaborn as sns\n",
    "import matplotlib\n",
    "\n",
    "import matplotlib.pyplot as plt\n",
    "from scipy.stats import skew\n",
    "from scipy.stats.stats import pearsonr\n",
    "\n",
    "# IPYthon 상에서 matplotlib 라이브러리가 \n",
    "# 별도의 창 없이 즉시 plot을 출력할 수 있도록 설정을 변경합니다.\n",
    "%config InlineBackend.figure_format = 'png'\n",
    "%matplotlib inline"
   ]
  },
  {
   "cell_type": "markdown",
   "metadata": {},
   "source": [
    "## 데이터 불러오기\n",
    "\n",
    "`pandas` 라이브러리의 `read_csv` 함수를 통해 `.csv` 형식의 데이터를 불러올 수 있습니다. 불러온 데이터는 `pandas.DataFrame`의 행렬 형태로 반환됩니다. 데이터의 각 행(row)은 하나의 sample을 나타내고, 데이터의 각 열(column)은 ID, feature, 또는 예측하고자 하는 target이 될 수 있습니다. \"House Prices\" dataset에서는 `Id` 필드와 `SalePrice` 필드(target)를 제외한 `MSSubClass ~ SaleCondition` 사이의 열이 feature가 됩니다. 각 feature는 다양한 type을 가질 수 있으며, 크게는 numerical feature와 categorical feature로 구분됩니다. 필요한 경우, `data/데이터_명세.pdf` 파일을 참조하여 각 feature의 의미를 확인하실 수 있습니다. \n",
    "\n",
    "한편, \"House Prices\" dataset은 2개의 데이터로 분리되어 있습니다:\n",
    "- Training data: 실제로 분석을 수행하고, regression 모델을 훈련시키는 데 사용되는 데이터입니다.\n",
    "- Testing data: 훈련된 모델의 성능을 평가하기 위한 용도로 사용됩니다. 모델의 훈련 과정 도중에 노출되지 않아야 합니다.\n"
   ]
  },
  {
   "cell_type": "code",
   "execution_count": 6,
   "metadata": {
    "_cell_guid": "603292c1-44b7-d72a-5468-e6782f311603",
    "_uuid": "0ffe725cc5a9a115b438e89b08c3982b0d387cd1"
   },
   "outputs": [],
   "source": [
    "# 데이터를 불러옵니다.\n",
    "train = pd.read_csv(\"data/train.csv\")\n",
    "test = pd.read_csv(\"data/test.csv\")\n",
    "\n",
    "\n",
    "# 데이터 전처리 과정을 위해 두 데이터를 임시적으로 합치되, ID와 target field를 제외합니다.\n",
    "all_data = pd.concat((train.loc[:,'MSSubClass':'SaleCondition'],\n",
    "                      test.loc[:,'MSSubClass':'SaleCondition']))"
   ]
  },
  {
   "cell_type": "code",
   "execution_count": 16,
   "metadata": {},
   "outputs": [
    {
     "data": {
      "text/html": [
       "<div>\n",
       "<style scoped>\n",
       "    .dataframe tbody tr th:only-of-type {\n",
       "        vertical-align: middle;\n",
       "    }\n",
       "\n",
       "    .dataframe tbody tr th {\n",
       "        vertical-align: top;\n",
       "    }\n",
       "\n",
       "    .dataframe thead th {\n",
       "        text-align: right;\n",
       "    }\n",
       "</style>\n",
       "<table border=\"1\" class=\"dataframe\">\n",
       "  <thead>\n",
       "    <tr style=\"text-align: right;\">\n",
       "      <th></th>\n",
       "      <th>Id</th>\n",
       "      <th>MSSubClass</th>\n",
       "      <th>MSZoning</th>\n",
       "      <th>LotFrontage</th>\n",
       "      <th>LotArea</th>\n",
       "      <th>Street</th>\n",
       "      <th>Alley</th>\n",
       "      <th>LotShape</th>\n",
       "      <th>LandContour</th>\n",
       "      <th>Utilities</th>\n",
       "      <th>...</th>\n",
       "      <th>ScreenPorch</th>\n",
       "      <th>PoolArea</th>\n",
       "      <th>PoolQC</th>\n",
       "      <th>Fence</th>\n",
       "      <th>MiscFeature</th>\n",
       "      <th>MiscVal</th>\n",
       "      <th>MoSold</th>\n",
       "      <th>YrSold</th>\n",
       "      <th>SaleType</th>\n",
       "      <th>SaleCondition</th>\n",
       "    </tr>\n",
       "  </thead>\n",
       "  <tbody>\n",
       "    <tr>\n",
       "      <th>0</th>\n",
       "      <td>1461</td>\n",
       "      <td>20</td>\n",
       "      <td>RH</td>\n",
       "      <td>80.0</td>\n",
       "      <td>11622</td>\n",
       "      <td>Pave</td>\n",
       "      <td>NaN</td>\n",
       "      <td>Reg</td>\n",
       "      <td>Lvl</td>\n",
       "      <td>AllPub</td>\n",
       "      <td>...</td>\n",
       "      <td>120</td>\n",
       "      <td>0</td>\n",
       "      <td>NaN</td>\n",
       "      <td>MnPrv</td>\n",
       "      <td>NaN</td>\n",
       "      <td>0</td>\n",
       "      <td>6</td>\n",
       "      <td>2010</td>\n",
       "      <td>WD</td>\n",
       "      <td>Normal</td>\n",
       "    </tr>\n",
       "    <tr>\n",
       "      <th>1</th>\n",
       "      <td>1462</td>\n",
       "      <td>20</td>\n",
       "      <td>RL</td>\n",
       "      <td>81.0</td>\n",
       "      <td>14267</td>\n",
       "      <td>Pave</td>\n",
       "      <td>NaN</td>\n",
       "      <td>IR1</td>\n",
       "      <td>Lvl</td>\n",
       "      <td>AllPub</td>\n",
       "      <td>...</td>\n",
       "      <td>0</td>\n",
       "      <td>0</td>\n",
       "      <td>NaN</td>\n",
       "      <td>NaN</td>\n",
       "      <td>Gar2</td>\n",
       "      <td>12500</td>\n",
       "      <td>6</td>\n",
       "      <td>2010</td>\n",
       "      <td>WD</td>\n",
       "      <td>Normal</td>\n",
       "    </tr>\n",
       "    <tr>\n",
       "      <th>2</th>\n",
       "      <td>1463</td>\n",
       "      <td>60</td>\n",
       "      <td>RL</td>\n",
       "      <td>74.0</td>\n",
       "      <td>13830</td>\n",
       "      <td>Pave</td>\n",
       "      <td>NaN</td>\n",
       "      <td>IR1</td>\n",
       "      <td>Lvl</td>\n",
       "      <td>AllPub</td>\n",
       "      <td>...</td>\n",
       "      <td>0</td>\n",
       "      <td>0</td>\n",
       "      <td>NaN</td>\n",
       "      <td>MnPrv</td>\n",
       "      <td>NaN</td>\n",
       "      <td>0</td>\n",
       "      <td>3</td>\n",
       "      <td>2010</td>\n",
       "      <td>WD</td>\n",
       "      <td>Normal</td>\n",
       "    </tr>\n",
       "    <tr>\n",
       "      <th>3</th>\n",
       "      <td>1464</td>\n",
       "      <td>60</td>\n",
       "      <td>RL</td>\n",
       "      <td>78.0</td>\n",
       "      <td>9978</td>\n",
       "      <td>Pave</td>\n",
       "      <td>NaN</td>\n",
       "      <td>IR1</td>\n",
       "      <td>Lvl</td>\n",
       "      <td>AllPub</td>\n",
       "      <td>...</td>\n",
       "      <td>0</td>\n",
       "      <td>0</td>\n",
       "      <td>NaN</td>\n",
       "      <td>NaN</td>\n",
       "      <td>NaN</td>\n",
       "      <td>0</td>\n",
       "      <td>6</td>\n",
       "      <td>2010</td>\n",
       "      <td>WD</td>\n",
       "      <td>Normal</td>\n",
       "    </tr>\n",
       "    <tr>\n",
       "      <th>4</th>\n",
       "      <td>1465</td>\n",
       "      <td>120</td>\n",
       "      <td>RL</td>\n",
       "      <td>43.0</td>\n",
       "      <td>5005</td>\n",
       "      <td>Pave</td>\n",
       "      <td>NaN</td>\n",
       "      <td>IR1</td>\n",
       "      <td>HLS</td>\n",
       "      <td>AllPub</td>\n",
       "      <td>...</td>\n",
       "      <td>144</td>\n",
       "      <td>0</td>\n",
       "      <td>NaN</td>\n",
       "      <td>NaN</td>\n",
       "      <td>NaN</td>\n",
       "      <td>0</td>\n",
       "      <td>1</td>\n",
       "      <td>2010</td>\n",
       "      <td>WD</td>\n",
       "      <td>Normal</td>\n",
       "    </tr>\n",
       "  </tbody>\n",
       "</table>\n",
       "<p>5 rows × 80 columns</p>\n",
       "</div>"
      ],
      "text/plain": [
       "     Id  MSSubClass MSZoning  LotFrontage  LotArea Street Alley LotShape  \\\n",
       "0  1461          20       RH         80.0    11622   Pave   NaN      Reg   \n",
       "1  1462          20       RL         81.0    14267   Pave   NaN      IR1   \n",
       "2  1463          60       RL         74.0    13830   Pave   NaN      IR1   \n",
       "3  1464          60       RL         78.0     9978   Pave   NaN      IR1   \n",
       "4  1465         120       RL         43.0     5005   Pave   NaN      IR1   \n",
       "\n",
       "  LandContour Utilities      ...       ScreenPorch PoolArea PoolQC  Fence  \\\n",
       "0         Lvl    AllPub      ...               120        0    NaN  MnPrv   \n",
       "1         Lvl    AllPub      ...                 0        0    NaN    NaN   \n",
       "2         Lvl    AllPub      ...                 0        0    NaN  MnPrv   \n",
       "3         Lvl    AllPub      ...                 0        0    NaN    NaN   \n",
       "4         HLS    AllPub      ...               144        0    NaN    NaN   \n",
       "\n",
       "  MiscFeature MiscVal MoSold  YrSold  SaleType  SaleCondition  \n",
       "0         NaN       0      6    2010        WD         Normal  \n",
       "1        Gar2   12500      6    2010        WD         Normal  \n",
       "2         NaN       0      3    2010        WD         Normal  \n",
       "3         NaN       0      6    2010        WD         Normal  \n",
       "4         NaN       0      1    2010        WD         Normal  \n",
       "\n",
       "[5 rows x 80 columns]"
      ]
     },
     "execution_count": 16,
     "metadata": {},
     "output_type": "execute_result"
    }
   ],
   "source": [
    "test.head()"
   ]
  },
  {
   "cell_type": "code",
   "execution_count": 17,
   "metadata": {
    "_cell_guid": "d646bb1b-56c4-9b45-d5d4-27095f61b1c0",
    "_uuid": "30e374b828ec9015d43b8c6d42ddc555d0d42810"
   },
   "outputs": [
    {
     "data": {
      "text/html": [
       "<div>\n",
       "<style scoped>\n",
       "    .dataframe tbody tr th:only-of-type {\n",
       "        vertical-align: middle;\n",
       "    }\n",
       "\n",
       "    .dataframe tbody tr th {\n",
       "        vertical-align: top;\n",
       "    }\n",
       "\n",
       "    .dataframe thead th {\n",
       "        text-align: right;\n",
       "    }\n",
       "</style>\n",
       "<table border=\"1\" class=\"dataframe\">\n",
       "  <thead>\n",
       "    <tr style=\"text-align: right;\">\n",
       "      <th></th>\n",
       "      <th>Id</th>\n",
       "      <th>MSSubClass</th>\n",
       "      <th>MSZoning</th>\n",
       "      <th>LotFrontage</th>\n",
       "      <th>LotArea</th>\n",
       "      <th>Street</th>\n",
       "      <th>Alley</th>\n",
       "      <th>LotShape</th>\n",
       "      <th>LandContour</th>\n",
       "      <th>Utilities</th>\n",
       "      <th>...</th>\n",
       "      <th>PoolArea</th>\n",
       "      <th>PoolQC</th>\n",
       "      <th>Fence</th>\n",
       "      <th>MiscFeature</th>\n",
       "      <th>MiscVal</th>\n",
       "      <th>MoSold</th>\n",
       "      <th>YrSold</th>\n",
       "      <th>SaleType</th>\n",
       "      <th>SaleCondition</th>\n",
       "      <th>SalePrice</th>\n",
       "    </tr>\n",
       "  </thead>\n",
       "  <tbody>\n",
       "    <tr>\n",
       "      <th>0</th>\n",
       "      <td>1</td>\n",
       "      <td>60</td>\n",
       "      <td>RL</td>\n",
       "      <td>65.0</td>\n",
       "      <td>8450</td>\n",
       "      <td>Pave</td>\n",
       "      <td>NaN</td>\n",
       "      <td>Reg</td>\n",
       "      <td>Lvl</td>\n",
       "      <td>AllPub</td>\n",
       "      <td>...</td>\n",
       "      <td>0</td>\n",
       "      <td>NaN</td>\n",
       "      <td>NaN</td>\n",
       "      <td>NaN</td>\n",
       "      <td>0</td>\n",
       "      <td>2</td>\n",
       "      <td>2008</td>\n",
       "      <td>WD</td>\n",
       "      <td>Normal</td>\n",
       "      <td>208500</td>\n",
       "    </tr>\n",
       "    <tr>\n",
       "      <th>1</th>\n",
       "      <td>2</td>\n",
       "      <td>20</td>\n",
       "      <td>RL</td>\n",
       "      <td>80.0</td>\n",
       "      <td>9600</td>\n",
       "      <td>Pave</td>\n",
       "      <td>NaN</td>\n",
       "      <td>Reg</td>\n",
       "      <td>Lvl</td>\n",
       "      <td>AllPub</td>\n",
       "      <td>...</td>\n",
       "      <td>0</td>\n",
       "      <td>NaN</td>\n",
       "      <td>NaN</td>\n",
       "      <td>NaN</td>\n",
       "      <td>0</td>\n",
       "      <td>5</td>\n",
       "      <td>2007</td>\n",
       "      <td>WD</td>\n",
       "      <td>Normal</td>\n",
       "      <td>181500</td>\n",
       "    </tr>\n",
       "    <tr>\n",
       "      <th>2</th>\n",
       "      <td>3</td>\n",
       "      <td>60</td>\n",
       "      <td>RL</td>\n",
       "      <td>68.0</td>\n",
       "      <td>11250</td>\n",
       "      <td>Pave</td>\n",
       "      <td>NaN</td>\n",
       "      <td>IR1</td>\n",
       "      <td>Lvl</td>\n",
       "      <td>AllPub</td>\n",
       "      <td>...</td>\n",
       "      <td>0</td>\n",
       "      <td>NaN</td>\n",
       "      <td>NaN</td>\n",
       "      <td>NaN</td>\n",
       "      <td>0</td>\n",
       "      <td>9</td>\n",
       "      <td>2008</td>\n",
       "      <td>WD</td>\n",
       "      <td>Normal</td>\n",
       "      <td>223500</td>\n",
       "    </tr>\n",
       "    <tr>\n",
       "      <th>3</th>\n",
       "      <td>4</td>\n",
       "      <td>70</td>\n",
       "      <td>RL</td>\n",
       "      <td>60.0</td>\n",
       "      <td>9550</td>\n",
       "      <td>Pave</td>\n",
       "      <td>NaN</td>\n",
       "      <td>IR1</td>\n",
       "      <td>Lvl</td>\n",
       "      <td>AllPub</td>\n",
       "      <td>...</td>\n",
       "      <td>0</td>\n",
       "      <td>NaN</td>\n",
       "      <td>NaN</td>\n",
       "      <td>NaN</td>\n",
       "      <td>0</td>\n",
       "      <td>2</td>\n",
       "      <td>2006</td>\n",
       "      <td>WD</td>\n",
       "      <td>Abnorml</td>\n",
       "      <td>140000</td>\n",
       "    </tr>\n",
       "    <tr>\n",
       "      <th>4</th>\n",
       "      <td>5</td>\n",
       "      <td>60</td>\n",
       "      <td>RL</td>\n",
       "      <td>84.0</td>\n",
       "      <td>14260</td>\n",
       "      <td>Pave</td>\n",
       "      <td>NaN</td>\n",
       "      <td>IR1</td>\n",
       "      <td>Lvl</td>\n",
       "      <td>AllPub</td>\n",
       "      <td>...</td>\n",
       "      <td>0</td>\n",
       "      <td>NaN</td>\n",
       "      <td>NaN</td>\n",
       "      <td>NaN</td>\n",
       "      <td>0</td>\n",
       "      <td>12</td>\n",
       "      <td>2008</td>\n",
       "      <td>WD</td>\n",
       "      <td>Normal</td>\n",
       "      <td>250000</td>\n",
       "    </tr>\n",
       "  </tbody>\n",
       "</table>\n",
       "<p>5 rows × 81 columns</p>\n",
       "</div>"
      ],
      "text/plain": [
       "   Id  MSSubClass MSZoning  LotFrontage  LotArea Street Alley LotShape  \\\n",
       "0   1          60       RL         65.0     8450   Pave   NaN      Reg   \n",
       "1   2          20       RL         80.0     9600   Pave   NaN      Reg   \n",
       "2   3          60       RL         68.0    11250   Pave   NaN      IR1   \n",
       "3   4          70       RL         60.0     9550   Pave   NaN      IR1   \n",
       "4   5          60       RL         84.0    14260   Pave   NaN      IR1   \n",
       "\n",
       "  LandContour Utilities    ...     PoolArea PoolQC Fence MiscFeature MiscVal  \\\n",
       "0         Lvl    AllPub    ...            0    NaN   NaN         NaN       0   \n",
       "1         Lvl    AllPub    ...            0    NaN   NaN         NaN       0   \n",
       "2         Lvl    AllPub    ...            0    NaN   NaN         NaN       0   \n",
       "3         Lvl    AllPub    ...            0    NaN   NaN         NaN       0   \n",
       "4         Lvl    AllPub    ...            0    NaN   NaN         NaN       0   \n",
       "\n",
       "  MoSold YrSold  SaleType  SaleCondition  SalePrice  \n",
       "0      2   2008        WD         Normal     208500  \n",
       "1      5   2007        WD         Normal     181500  \n",
       "2      9   2008        WD         Normal     223500  \n",
       "3      2   2006        WD        Abnorml     140000  \n",
       "4     12   2008        WD         Normal     250000  \n",
       "\n",
       "[5 rows x 81 columns]"
      ]
     },
     "execution_count": 17,
     "metadata": {},
     "output_type": "execute_result"
    }
   ],
   "source": [
    "# Training data의 처음 일부분을 확인할 수 있습니다.\n",
    "train.head()"
   ]
  },
  {
   "cell_type": "markdown",
   "metadata": {
    "_cell_guid": "29fa13df-61e8-b0c2-b3a7-ea92bffd4396",
    "_uuid": "fbc2b8df13e347ab2297381e69cdd2a6eb1cff6d"
   },
   "source": [
    "## 데이터 전처리\n",
    "\n",
    "대개의 경우, 데이터의 분석 과정은 **\"Garbage in, garbage out\"**을 따릅니다: 좋은 분석을 얻기 위해서는 데이터의 quality 또한 좋아야 합니다.\n",
    "\n",
    "Real-world의 데이터는 수집 과정에서 발생하는 다양한 요인에 의해 즉시 분석하기 어려울 때가 많습니다:\n",
    "- Missing values\n",
    "- Impossible values, combinations (e.g. Sex: Male, Pregnant: Yes)\n",
    "- Redundant/Noisy features\n",
    "- ... etc.\n",
    "\n",
    "데이터 전처리 과정은 본격적인 분석 이전에 이러한 문제에 대응하여 수행하는 과정 전체를 의미합니다. 본 실습에서는 전처리 과정 이후의 분석에 조금 더 집중할 것이기 때문에, 이 과정에 대해 상세히 다루지는 않습니다. 그렇지만 조금 더 의미있는 분석을 위해, 다음과 같은 기본적인 전처리를 수행할 것입니다:\n",
    "- Numeric feature 중 너무 한 쪽으로 분포가 치우친(\"skewed\") feature의 경우 `log(feature + 1)`를 취합니다 - feature를 조금 더 normal 한 형태로 만들어 줍니다.\n",
    "- Categorical feature를 여러 개의 binary numerical feature로 변환시킵니다. (dummy variables)\n",
    "- Data에 존재하는 missing value를 해당 column의 평균으로 채웁니다."
   ]
  },
  {
   "cell_type": "code",
   "execution_count": 23,
   "metadata": {
    "_cell_guid": "9b5a3e5b-f683-3fd2-7269-4068975bbe42",
    "_uuid": "1785c0526f00cd4a65460ed8e9500a86dcb847d9"
   },
   "outputs": [
    {
     "data": {
      "text/plain": [
       "array([[<matplotlib.axes._subplots.AxesSubplot object at 0x00000212A451F7F0>,\n",
       "        <matplotlib.axes._subplots.AxesSubplot object at 0x00000212A4540A20>]],\n",
       "      dtype=object)"
      ]
     },
     "execution_count": 23,
     "metadata": {},
     "output_type": "execute_result"
    },
    {
     "data": {
      "image/png": "[encoded data removed]",
      "text/plain": [
       "<Figure size 864x432 with 2 Axes>"
      ]
     },
     "metadata": {},
     "output_type": "display_data"
    }
   ],
   "source": [
    "# Target의 분포와 log(feature + 1) 변환 이후의 히스토그램을 출력합니다.\n",
    "# 변환 이후의 분포가 더 대칭적인 형태를 띈다는 점에 주목하십시오.\n",
    "matplotlib.rcParams['figure.figsize'] = (12.0, 6.0)\n",
    "prices = pd.DataFrame({\"0_price\":train[\"SalePrice\"], \"1_log(price + 1)\":np.log1p(train[\"SalePrice\"])})\n",
    "prices.hist()"
   ]
  },
  {
   "cell_type": "code",
   "execution_count": 24,
   "metadata": {
    "_cell_guid": "3854ab12-a4f3-4c88-fe6e-1fee08e18af2",
    "_uuid": "30f93ac766a9919a29c62f3a98c693979895970b"
   },
   "outputs": [
    {
     "ename": "KeyError",
     "evalue": "\"Index(['MSZoning_C (all)', 'MSZoning_FV', 'MSZoning_RH', 'MSZoning_RL',\\n       'MSZoning_RM', 'Street_Grvl', 'Street_Pave', 'Alley_Grvl', 'Alley_Pave',\\n       'LotShape_IR1',\\n       ...\\n       'SaleType_ConLw', 'SaleType_New', 'SaleType_Oth', 'SaleType_WD',\\n       'SaleCondition_Abnorml', 'SaleCondition_AdjLand',\\n       'SaleCondition_Alloca', 'SaleCondition_Family', 'SaleCondition_Normal',\\n       'SaleCondition_Partial'],\\n      dtype='object', length=252) not in index\"",
     "output_type": "error",
     "traceback": [
      "\u001b[1;31m---------------------------------------------------------------------------\u001b[0m",
      "\u001b[1;31mKeyError\u001b[0m                                  Traceback (most recent call last)",
      "\u001b[1;32m<ipython-input-24-1e585871e8b2>\u001b[0m in \u001b[0;36m<module>\u001b[1;34m()\u001b[0m\n\u001b[0;32m      5\u001b[0m \u001b[0mnumeric_feats\u001b[0m \u001b[1;33m=\u001b[0m \u001b[0mall_data\u001b[0m\u001b[1;33m.\u001b[0m\u001b[0mdtypes\u001b[0m\u001b[1;33m[\u001b[0m\u001b[0mall_data\u001b[0m\u001b[1;33m.\u001b[0m\u001b[0mdtypes\u001b[0m \u001b[1;33m!=\u001b[0m \u001b[1;34m\"object\"\u001b[0m\u001b[1;33m]\u001b[0m\u001b[1;33m.\u001b[0m\u001b[0mindex\u001b[0m\u001b[1;33m\u001b[0m\u001b[0m\n\u001b[0;32m      6\u001b[0m \u001b[1;33m\u001b[0m\u001b[0m\n\u001b[1;32m----> 7\u001b[1;33m \u001b[0mskewed_feats\u001b[0m \u001b[1;33m=\u001b[0m \u001b[0mtrain\u001b[0m\u001b[1;33m[\u001b[0m\u001b[0mnumeric_feats\u001b[0m\u001b[1;33m]\u001b[0m\u001b[1;33m.\u001b[0m\u001b[0mapply\u001b[0m\u001b[1;33m(\u001b[0m\u001b[1;32mlambda\u001b[0m \u001b[0mx\u001b[0m\u001b[1;33m:\u001b[0m \u001b[0mskew\u001b[0m\u001b[1;33m(\u001b[0m\u001b[0mx\u001b[0m\u001b[1;33m.\u001b[0m\u001b[0mdropna\u001b[0m\u001b[1;33m(\u001b[0m\u001b[1;33m)\u001b[0m\u001b[1;33m)\u001b[0m\u001b[1;33m)\u001b[0m \u001b[1;31m#compute skewness\u001b[0m\u001b[1;33m\u001b[0m\u001b[0m\n\u001b[0m\u001b[0;32m      8\u001b[0m \u001b[0mskewed_feats\u001b[0m \u001b[1;33m=\u001b[0m \u001b[0mskewed_feats\u001b[0m\u001b[1;33m[\u001b[0m\u001b[0mskewed_feats\u001b[0m \u001b[1;33m>\u001b[0m \u001b[1;36m0.75\u001b[0m\u001b[1;33m]\u001b[0m\u001b[1;33m\u001b[0m\u001b[0m\n\u001b[0;32m      9\u001b[0m \u001b[0mskewed_feats\u001b[0m \u001b[1;33m=\u001b[0m \u001b[0mskewed_feats\u001b[0m\u001b[1;33m.\u001b[0m\u001b[0mindex\u001b[0m\u001b[1;33m\u001b[0m\u001b[0m\n",
      "\u001b[1;32m~\\Anaconda3\\lib\\site-packages\\pandas\\core\\frame.py\u001b[0m in \u001b[0;36m__getitem__\u001b[1;34m(self, key)\u001b[0m\n\u001b[0;32m   2677\u001b[0m         \u001b[1;32mif\u001b[0m \u001b[0misinstance\u001b[0m\u001b[1;33m(\u001b[0m\u001b[0mkey\u001b[0m\u001b[1;33m,\u001b[0m \u001b[1;33m(\u001b[0m\u001b[0mSeries\u001b[0m\u001b[1;33m,\u001b[0m \u001b[0mnp\u001b[0m\u001b[1;33m.\u001b[0m\u001b[0mndarray\u001b[0m\u001b[1;33m,\u001b[0m \u001b[0mIndex\u001b[0m\u001b[1;33m,\u001b[0m \u001b[0mlist\u001b[0m\u001b[1;33m)\u001b[0m\u001b[1;33m)\u001b[0m\u001b[1;33m:\u001b[0m\u001b[1;33m\u001b[0m\u001b[0m\n\u001b[0;32m   2678\u001b[0m             \u001b[1;31m# either boolean or fancy integer index\u001b[0m\u001b[1;33m\u001b[0m\u001b[1;33m\u001b[0m\u001b[0m\n\u001b[1;32m-> 2679\u001b[1;33m             \u001b[1;32mreturn\u001b[0m \u001b[0mself\u001b[0m\u001b[1;33m.\u001b[0m\u001b[0m_getitem_array\u001b[0m\u001b[1;33m(\u001b[0m\u001b[0mkey\u001b[0m\u001b[1;33m)\u001b[0m\u001b[1;33m\u001b[0m\u001b[0m\n\u001b[0m\u001b[0;32m   2680\u001b[0m         \u001b[1;32melif\u001b[0m \u001b[0misinstance\u001b[0m\u001b[1;33m(\u001b[0m\u001b[0mkey\u001b[0m\u001b[1;33m,\u001b[0m \u001b[0mDataFrame\u001b[0m\u001b[1;33m)\u001b[0m\u001b[1;33m:\u001b[0m\u001b[1;33m\u001b[0m\u001b[0m\n\u001b[0;32m   2681\u001b[0m             \u001b[1;32mreturn\u001b[0m \u001b[0mself\u001b[0m\u001b[1;33m.\u001b[0m\u001b[0m_getitem_frame\u001b[0m\u001b[1;33m(\u001b[0m\u001b[0mkey\u001b[0m\u001b[1;33m)\u001b[0m\u001b[1;33m\u001b[0m\u001b[0m\n",
      "\u001b[1;32m~\\Anaconda3\\lib\\site-packages\\pandas\\core\\frame.py\u001b[0m in \u001b[0;36m_getitem_array\u001b[1;34m(self, key)\u001b[0m\n\u001b[0;32m   2721\u001b[0m             \u001b[1;32mreturn\u001b[0m \u001b[0mself\u001b[0m\u001b[1;33m.\u001b[0m\u001b[0m_take\u001b[0m\u001b[1;33m(\u001b[0m\u001b[0mindexer\u001b[0m\u001b[1;33m,\u001b[0m \u001b[0maxis\u001b[0m\u001b[1;33m=\u001b[0m\u001b[1;36m0\u001b[0m\u001b[1;33m)\u001b[0m\u001b[1;33m\u001b[0m\u001b[0m\n\u001b[0;32m   2722\u001b[0m         \u001b[1;32melse\u001b[0m\u001b[1;33m:\u001b[0m\u001b[1;33m\u001b[0m\u001b[0m\n\u001b[1;32m-> 2723\u001b[1;33m             \u001b[0mindexer\u001b[0m \u001b[1;33m=\u001b[0m \u001b[0mself\u001b[0m\u001b[1;33m.\u001b[0m\u001b[0mloc\u001b[0m\u001b[1;33m.\u001b[0m\u001b[0m_convert_to_indexer\u001b[0m\u001b[1;33m(\u001b[0m\u001b[0mkey\u001b[0m\u001b[1;33m,\u001b[0m \u001b[0maxis\u001b[0m\u001b[1;33m=\u001b[0m\u001b[1;36m1\u001b[0m\u001b[1;33m)\u001b[0m\u001b[1;33m\u001b[0m\u001b[0m\n\u001b[0m\u001b[0;32m   2724\u001b[0m             \u001b[1;32mreturn\u001b[0m \u001b[0mself\u001b[0m\u001b[1;33m.\u001b[0m\u001b[0m_take\u001b[0m\u001b[1;33m(\u001b[0m\u001b[0mindexer\u001b[0m\u001b[1;33m,\u001b[0m \u001b[0maxis\u001b[0m\u001b[1;33m=\u001b[0m\u001b[1;36m1\u001b[0m\u001b[1;33m)\u001b[0m\u001b[1;33m\u001b[0m\u001b[0m\n\u001b[0;32m   2725\u001b[0m \u001b[1;33m\u001b[0m\u001b[0m\n",
      "\u001b[1;32m~\\Anaconda3\\lib\\site-packages\\pandas\\core\\indexing.py\u001b[0m in \u001b[0;36m_convert_to_indexer\u001b[1;34m(self, obj, axis, is_setter)\u001b[0m\n\u001b[0;32m   1325\u001b[0m                 \u001b[1;32mif\u001b[0m \u001b[0mmask\u001b[0m\u001b[1;33m.\u001b[0m\u001b[0many\u001b[0m\u001b[1;33m(\u001b[0m\u001b[1;33m)\u001b[0m\u001b[1;33m:\u001b[0m\u001b[1;33m\u001b[0m\u001b[0m\n\u001b[0;32m   1326\u001b[0m                     raise KeyError('{mask} not in index'\n\u001b[1;32m-> 1327\u001b[1;33m                                    .format(mask=objarr[mask]))\n\u001b[0m\u001b[0;32m   1328\u001b[0m \u001b[1;33m\u001b[0m\u001b[0m\n\u001b[0;32m   1329\u001b[0m                 \u001b[1;32mreturn\u001b[0m \u001b[0mcom\u001b[0m\u001b[1;33m.\u001b[0m\u001b[0m_values_from_object\u001b[0m\u001b[1;33m(\u001b[0m\u001b[0mindexer\u001b[0m\u001b[1;33m)\u001b[0m\u001b[1;33m\u001b[0m\u001b[0m\n",
      "\u001b[1;31mKeyError\u001b[0m: \"Index(['MSZoning_C (all)', 'MSZoning_FV', 'MSZoning_RH', 'MSZoning_RL',\\n       'MSZoning_RM', 'Street_Grvl', 'Street_Pave', 'Alley_Grvl', 'Alley_Pave',\\n       'LotShape_IR1',\\n       ...\\n       'SaleType_ConLw', 'SaleType_New', 'SaleType_Oth', 'SaleType_WD',\\n       'SaleCondition_Abnorml', 'SaleCondition_AdjLand',\\n       'SaleCondition_Alloca', 'SaleCondition_Family', 'SaleCondition_Normal',\\n       'SaleCondition_Partial'],\\n      dtype='object', length=252) not in index\""
     ]
    }
   ],
   "source": [
    "# Target에 대해 log(feature + 1) 변환을 취합니다. \n",
    "train[\"SalePrice\"] = np.log1p(train[\"SalePrice\"])\n",
    "\n",
    "# Numeric feature 중에서도 치우친 feature가 있다면 마찬가지의 변환을 수행합니다.\n",
    "numeric_feats = all_data.dtypes[all_data.dtypes != \"object\"].index\n",
    "\n",
    "skewed_feats = train[numeric_feats].apply(lambda x: skew(x.dropna())) #compute skewness\n",
    "skewed_feats = skewed_feats[skewed_feats > 0.75]\n",
    "skewed_feats = skewed_feats.index\n",
    "\n",
    "all_data[skewed_feats] = np.log1p(all_data[skewed_feats])\n",
    "\n",
    "# Dummy variable을 통해 categorical feature를 numeric feature로 변환합니다.\n",
    "all_data = pd.get_dummies(all_data)\n",
    "\n",
    "# 평균을 이용해 missing values를 처리합니다.\n",
    "all_data = all_data.fillna(all_data.mean())\n",
    "\n",
    "# 데이터가 최종적으로 어떻게 전처리 되었는지 원래 데이터와 비교해보세요.\n",
    "all_data.head()"
   ]
  },
  {
   "cell_type": "code",
   "execution_count": 25,
   "metadata": {
    "_cell_guid": "fe687685-cdac-0a89-4d71-af2d11d87a81",
    "_uuid": "37507166f6c34fb7e8f2ec4f8fcf2a18691b60ac"
   },
   "outputs": [],
   "source": [
    "# scikit-learn의 알고리즘에 입력할 수 있는 형태의 데이터를 생성합니다.\n",
    "# X_train에는 training에 필요한 데이터가, X_test에는 test에 필요한 데이터가 저장됩니다.\n",
    "n_train = train.shape[0]\n",
    "X_train, X_test = all_data[:n_train], all_data[n_train:]\n",
    "y = train.SalePrice"
   ]
  },
  {
   "cell_type": "markdown",
   "metadata": {
    "_cell_guid": "cc4e3014-23b7-2971-ddb0-f67b03f83558",
    "_uuid": "d1bdbee9089b7b8015d202902bd9fa64821e7949"
   },
   "source": [
    "## 회귀 모델 학습\n",
    "\n",
    "이제 전처리된 데이터를 통해 새로운 데이터의 target을 예측하는 회귀 모델을 학습할 것입니다. '좋은' 회귀 모델을 학습한다는 것은, target을 모르는 '새로운' 데이터가 모델에 주어졌을 때 그것의 실제 target에 가까운 값을 예측할 수 있게끔 하는 것입니다. 이를 위해, 다음과 같은 질문을 고려할 수 있습니다:\n",
    "\n",
    "- 어떠한 모델을 사용할 것인가?\n",
    "- 모델의 hyperparameter는 어떻게 설정되어야 하는가?\n",
    "- '좋은' 모델을 어떻게 평가할 것인가?\n",
    "\n",
    "본 실습에서는, scikit-learn 모듈의 다양한 regression model을 사용해볼 것입니다. 모델을 평가하기 위해 cross-validation error를 측정할 것이고, 이를 통해 모델의 hyperparameter를 찾는 방법에 대해서도 알아볼 것입니다. \n",
    "\n",
    "아래에 예시로 주어지는 코드에서는 scikit-learn 모듈의 ordinary least squares와 Lasso model을 학습해보고, 둘을 비교하면서 $l_1$ regularization이 모델에 어떠한 영향을 주는지 확인합니다. 학습된 모델을 이용해 Testing data의 target을 실제로 예측해보고, 이것을 Kaggle에 (https://www.kaggle.com/c/house-prices-advanced-regression-techniques) 제출하여 test score를 확인할 수 있을 것입니다. \n",
    "\n",
    "주어진 방식을 토대로, 프로젝트를 수행하면서 다양한 모델을 실험해 보세요. "
   ]
  },
  {
   "cell_type": "code",
   "execution_count": 26,
   "metadata": {
    "_cell_guid": "82886739-eee6-5d7a-4be9-e1fe6ac059f1",
    "_uuid": "f288cbe703165da83c5a88f09bb52cb654ac23c9"
   },
   "outputs": [],
   "source": [
    "# 학습에 필요한 모델 및 함수를 import 합니다.\n",
    "from sklearn.linear_model import LinearRegression, Lasso\n",
    "from sklearn.model_selection import cross_val_score"
   ]
  },
  {
   "cell_type": "markdown",
   "metadata": {},
   "source": [
    "아래에 정의되는 함수 `mean_cv_rmse()`는 주어진 모델이 학습하고자 하는 데이터에 대해 얼마나 좋은 성능을 낼 것인지에 대한 지표로 사용됩니다. 함수의 반환값은 항상 양수를 가지며, 0에 가까울 수록 더 적합한 모델임을 의미합니다. 모델을 평가하는 과정에서 발생할 수 있는 overfitting을 방지하기 위해, 본 실습에서는 **cross-validation (CV)**을 사용합니다. CV에 대한 자세한 설명은 다음 링크를 참조하시면 좋습니다: http://scikit-learn.org/stable/modules/cross_validation.html"
   ]
  },
  {
   "cell_type": "code",
   "execution_count": 27,
   "metadata": {},
   "outputs": [],
   "source": [
    "# 주어진 모델의 cross-validation root-mean-squared error (RMSE) score를 계산합니다.\n",
    "# 이 함수에서는 5-fold cross-valiation을 수행하고, 5개의 score를 평균한 값이 반환됩니다.\n",
    "# Cross-validation을 계산하기 위해, 학습 데이터를 사용해서 총 5번의 학습을 수행해야 합니다.\n",
    "def mean_cv_rmse(model):\n",
    "    rmse= np.sqrt(-cross_val_score(model, X_train, y, scoring=\"neg_mean_squared_error\", cv=5))\n",
    "    return(rmse.mean())"
   ]
  },
  {
   "cell_type": "markdown",
   "metadata": {},
   "source": [
    "우선 가장 간단한 형태의 linear model인 ordinary least squares (OLS)를 학습해 봅시다. `scikit-learn`의 `LinearRegression` class를 이용하면 쉽게 OLS 모델을 학습할 수 있습니다. 학습을 수행하기 전에, `mean_cv_rmse()` 함수를 통해 OLS 모델의 예상 성능을 측정해볼 수 있습니다. OLS 모델의 cross-validation RMSE score는 대략 0.165로 계산될 것입니다. "
   ]
  },
  {
   "cell_type": "code",
   "execution_count": 72,
   "metadata": {},
   "outputs": [
    {
     "name": "stdout",
     "output_type": "stream",
     "text": [
      "Score: 0.0035\n"
     ]
    },
    {
     "data": {
      "text/plain": [
       "LinearRegression(copy_X=True, fit_intercept=True, n_jobs=1, normalize=False)"
      ]
     },
     "execution_count": 72,
     "metadata": {},
     "output_type": "execute_result"
    }
   ],
   "source": [
    "# 새로운 OLS 모델을 정의합니다. \n",
    "model_ols = LinearRegression()\n",
    "\n",
    "# OLS 모델의 예상 성능을 측정합니다. \n",
    "print(\"Score: %.4f\" % mean_cv_rmse(model_ols))\n",
    "\n",
    "# 모델을 전체 학습 데이터로 훈련시킵니다.\n",
    "model_ols.fit(X_train, y)"
   ]
  },
  {
   "cell_type": "markdown",
   "metadata": {
    "_cell_guid": "69ff958c-dbbb-4750-3fb0-d0ac17ff6363",
    "_uuid": "0ab7d377dc66a24c1465e2a3f65f561d64ceb825"
   },
   "source": [
    "그 다음으로, Lasso regression을 학습해볼 것입니다. Lasso regression은 기존 OLS 모델에서 $l_1$-regularization을 추가한 형태입니다. OLS 모델을 학습했던 방식과 비슷하게, scikit-learn의 `Lasso` class를 통해 학습할 수 있습니다. 이 class에 대한 자세한 정보는 http://scikit-learn.org/stable/modules/generated/sklearn.linear_model.Lasso.html 를 참조하십시오. :\n",
    "```\n",
    "class sklearn.linear_model.Lasso(alpha=1.0, ...)\n",
    "```\n",
    "OLS 모델을 학습할 때와는 달리, Lasso에서는 추가적으로 설정해주어야 할 **hyperparameter `'alpha'`**가 있습니다. Lasso model에서 `alpha`는 모델이 얼마나 'sparse' 하게 학습될 것인지를 결정합니다. 학습하고자 하는 데이터가 많은 feature를 가지고 있는 경우, 이렇게 모델의 sparsity를 조절하는 것은 overfitting을 막는데 효과적일 수 있습니다. `alpha`가 큰 모델일수록, 더 많은 feature를 unimportant하다고 여기고 그 계수를 0으로 만드는 경향이 생깁니다. 하지만 과도하게 `alpha`가 클 경우, 모델의 표현력를 잃으면서 data를 정확히 capture하는 모델을 학습하지 못할 수도 있습니다. 따라서 학습하는 data에 적합한 `alpha`를 찾는 것이 중요합니다.\n",
    "\n",
    "최적의 `alpha`를 찾기 위해, 여기서는 또다시 cross-validation score를 이용합니다. 여러 `alpha`의 후보에 대해 가장 뛰어난 cross-validation score를 기록한 `alpha`를 취하는 방식으로 Lasso의 hyperparameter를 결정할 것입니다. Lasso의 특성 상, `alpha`의 후보는 log scale에서 동등한 간격을 가지게끔 선택되었습니다."
   ]
  },
  {
   "cell_type": "code",
   "execution_count": 39,
   "metadata": {
    "_cell_guid": "f8cf53ba-8441-9233-b7f5-a851d270b770",
    "_uuid": "6a5fc8521d0dd07091068caed3fdc1f8d7185ed3"
   },
   "outputs": [
    {
     "name": "stdout",
     "output_type": "stream",
     "text": [
      "Candidates of alpha = \n",
      "[1.00000000e-05 3.59381366e-05 1.29154967e-04 4.64158883e-04\n",
      " 1.66810054e-03 5.99484250e-03 2.15443469e-02 7.74263683e-02\n",
      " 2.78255940e-01 1.00000000e+00]\n"
     ]
    },
    {
     "data": {
      "text/plain": [
       "Text(0,0.5,'RMSE')"
      ]
     },
     "execution_count": 39,
     "metadata": {},
     "output_type": "execute_result"
    },
    {
     "data": {
      "image/png": "[encoded data removed]",
      "text/plain": [
       "<Figure size 864x432 with 1 Axes>"
      ]
     },
     "metadata": {},
     "output_type": "display_data"
    }
   ],
   "source": [
    "# alpha의 후보를 설정합니다. \n",
    "# Lasso의 특성 상, log-scale에서 값들이 균일하도록 후보를 설정했습니다.\n",
    "alphas = np.logspace(start=-5, stop=0, num=10)\n",
    "print(\"Candidates of alpha = \\n%s\" % alphas)\n",
    "\n",
    "# 각각의 alpha에 대한 모델 성능을 측정합니다. \n",
    "cv_lasso = [mean_cv_rmse(Lasso(alpha = alpha)) for alpha in alphas]\n",
    "\n",
    "# alpha에 따른 성능 측정 결과를 그래프로 나타냅니다.\n",
    "# alpha는 log scale로 표현되었습니다.\n",
    "cv_lasso = pd.Series(cv_lasso, index=alphas)\n",
    "cv_lasso.plot(logx=True)\n",
    "plt.xlabel(\"log(alpha)\")\n",
    "plt.ylabel(\"RMSE\")"
   ]
  },
  {
   "cell_type": "code",
   "execution_count": 33,
   "metadata": {
    "_cell_guid": "d42c18c9-ee70-929f-ce63-aac7f77796cc",
    "_uuid": "1492984942fc875a060b4febad6fcdb8cb11911d"
   },
   "outputs": [
    {
     "name": "stdout",
     "output_type": "stream",
     "text": [
      "Best alpha: 0.000010, score: 0.002666\n"
     ]
    }
   ],
   "source": [
    "best_alpha = cv_lasso.idxmin()\n",
    "print(\"Best alpha: %f, score: %f\" % (best_alpha, cv_lasso.min()))"
   ]
  },
  {
   "cell_type": "markdown",
   "metadata": {
    "_cell_guid": "37486402-4a48-912f-84ee-a3611334b133",
    "_uuid": "e4c2b761924bff57c8a6f410aa69c307f7021c48"
   },
   "source": [
    "측정 결과로 그려진 U자 형태의 그래프를 통해, `alpha`의 효과를 다시 한 번 확인할 수 있습니다: \n",
    "- `alpha`가 계속 작아질 경우, Lasso는 OLS와 같아집니다. \n",
    "- `alpha`가 너무 커질 경우, 모델의 표현력을 잃을 수 있습니다. \n",
    "\n",
    "여기서는 `alpha = 0.000464` 에서 가장 좋은 성능을 보입니다. 우리는 이 값을 Lasso 모델을 학습할 때 사용할 것입니다. \n",
    "Lasso에서 측정된 성능과 이전 OLS 모델의 성능을 비교해 보세요."
   ]
  },
  {
   "cell_type": "code",
   "execution_count": 55,
   "metadata": {
    "_cell_guid": "52a42dcc-9636-3dd5-5cb8-88947b5c77d6",
    "_uuid": "456274c925c91bf3e915fe851abe00cbb5a42b9a"
   },
   "outputs": [
    {
     "data": {
      "text/plain": [
       "Lasso(alpha=1e-05, copy_X=True, fit_intercept=True, max_iter=1000,\n",
       "   normalize=False, positive=False, precompute=False, random_state=None,\n",
       "   selection='cyclic', tol=0.0001, warm_start=False)"
      ]
     },
     "execution_count": 55,
     "metadata": {},
     "output_type": "execute_result"
    }
   ],
   "source": [
    "# 가장 좋은 성능을 보였던 alpha를 이용해 모델을 정의하고, 전체 데이터로 다시 학습합니다.\n",
    "model_lasso = Lasso(alpha=best_alpha)\n",
    "model_lasso.fit(X_train, y)"
   ]
  },
  {
   "cell_type": "markdown",
   "metadata": {
    "_cell_guid": "ca153134-b109-1afc-e066-44273f65d44c",
    "_uuid": "cf288c43be9827c8f3499007db0cdce9837dfccd"
   },
   "source": [
    "### **Q1.** \n",
    "**비슷한 방식으로, Ridge regression 모델을 학습해보세요. Ridge regression은 기존 OLS 모델에서 $l_2$-regularization을 추가한 형태이고, scikit-learn의 `Ridge` class를 통해 학습할 수 있습니다. 이 class에 대한 자세한 정보는 http://scikit-learn.org/stable/modules/generated/sklearn.linear_model.Ridge.html 를 참조하십시오. :**\n",
    "```\n",
    "class sklearn.linear_model.Ridge(alpha=1.0, ...)\n",
    "```\n",
    "**아래 주어진 스켈레톤 소스코드에서 출발하여 최적의 `alpha`를 찾고, 전체 데이터를 이용하여 훈련시키는 과정을 수행하시면 됩니다.**"
   ]
  },
  {
   "cell_type": "code",
   "execution_count": 76,
   "metadata": {},
   "outputs": [
    {
     "name": "stdout",
     "output_type": "stream",
     "text": [
      "Candidates of alpha = \n",
      "[ 1.          4.22222222  7.44444444 10.66666667 13.88888889 17.11111111\n",
      " 20.33333333 23.55555556 26.77777778 30.        ]\n",
      "Best alpha: 0.000010, score: 0.002773\n",
      "Ridge(alpha=10.666666666666668, copy_X=True, fit_intercept=True,\n",
      "   max_iter=None, normalize=False, random_state=None, solver='auto',\n",
      "   tol=0.001)\n"
     ]
    },
    {
     "data": {
      "image/png": "[encoded data removed]",
      "text/plain": [
       "<Figure size 576x720 with 1 Axes>"
      ]
     },
     "metadata": {},
     "output_type": "display_data"
    }
   ],
   "source": [
    "### **Q1.** 답변\n",
    "# Ridge 모델을 import 합니다.\n",
    "from sklearn.linear_model import Ridge\n",
    "\n",
    "# alpha의 후보를 설정합니다. \n",
    "# Ridge의 특성 상, uniform-scale에서 후보를 설정했습니다.\n",
    "alphas = np.linspace(start=1.0, stop=30.0, num=10)\n",
    "print(\"Candidates of alpha = \\n%s\" % alphas)\n",
    "\n",
    "############## YOUR CODE HERE BELOW ##############\n",
    "\n",
    "# 각각의 alpha에 대한 모델 성능을 측정합니다. \n",
    "cv_Ridge = [mean_cv_rmse(Ridge(alpha = alpha)) for alpha in alphas]\n",
    "\n",
    "# alpha에 따른 성능 측정 결과를 그래프로 나타냅니다.\n",
    "# alpha는 log scale로 표현되었습니다.\n",
    "cv_Ridge = pd.Series(cv_Ridge, index=alphas)\n",
    "cv_Ridge.plot(logx=True)\n",
    "plt.xlabel(\"log(alpha)\")\n",
    "plt.ylabel(\"RMSE\")\n",
    "\n",
    "ridge_best_alpha = cv_Ridge.idxmin()\n",
    "print(\"Best alpha: %f, score: %f\" % (best_alpha, cv_Ridge.min()))\n",
    "\n",
    "model_ridge = Ridge(alpha=ridge_best_alpha)\n",
    "model_ridge.fit(X_train, y)\n",
    "\n",
    "print(model_ridge)\n"
   ]
  },
  {
   "cell_type": "markdown",
   "metadata": {},
   "source": [
    "## 모델 해석하기\n",
    "\n",
    "선형 모델이 가진 강력한 장점은, 학습된 모델의 **해석 가능성**(interpretability), 즉, 모델의 input feature를 통해 output을 설명할 수 있다는 점입니다. 선형 모델보다 더 좋은 성능을 기대할 수 있는 머신러닝 알고리즘은 많이 있지만, 학습된 모델을 다시 해석하여 그 의미를 설명할 수 있는 알고리즘은 드뭅니다. 여기서는 위에서 학습한 Lasso 모델을 예시로 들어, linear model을 해석하는 방법에 대해 알아보겠습니다. "
   ]
  },
  {
   "cell_type": "markdown",
   "metadata": {},
   "source": [
    "일반적으로, linear model에서는 각 feature에 대응하는 coefficient를 학습합니다. Linear model의 해석은 주로 해당 모델이 학습한 coefficient를 관찰하면서 이루어집니다."
   ]
  },
  {
   "cell_type": "code",
   "execution_count": 56,
   "metadata": {
    "_cell_guid": "c7be87ca-412a-cb19-1524-cd94cf698d44",
    "_uuid": "6f87343e6067cbd54042a909e1557f81fcc26987"
   },
   "outputs": [],
   "source": [
    "coef_lasso= pd.Series(model_lasso.coef_, index = X_train.columns)"
   ]
  },
  {
   "cell_type": "markdown",
   "metadata": {},
   "source": [
    "간단한 예시로, 우리는 Lasso model의 non-zero coefficient를 세어볼 수 있습니다. 어떤 feature의 coefficient가 0이라는 것은 Lasso model이 해당 feature를 중요하지 않다고 판단하고 prediction에서 전혀 사용하지 않았다는 것을 의미합니다. 이렇게, 학습된 Lasso 모델은 전체 feature 가운데 오직 113개만 사용했다는 것을 확인할 수 있습니다."
   ]
  },
  {
   "cell_type": "code",
   "execution_count": 57,
   "metadata": {
    "_cell_guid": "14be641e-bbe0-824d-d90f-f47698c8b5c5",
    "_uuid": "019120517631f7859d79dfc454114980769ead62"
   },
   "outputs": [
    {
     "name": "stdout",
     "output_type": "stream",
     "text": [
      "The Lasso model picked 114 variablesand eliminated the other 174 variables\n"
     ]
    }
   ],
   "source": [
    "print(\"The Lasso model picked \" + str(sum(coef_lasso != 0)) + \" variables\" +\n",
    "      \"and eliminated the other \" +  str(sum(coef_lasso == 0)) + \" variables\")"
   ]
  },
  {
   "cell_type": "markdown",
   "metadata": {
    "_cell_guid": "ca153134-b109-1afc-e066-44273f65d44c",
    "_uuid": "cf288c43be9827c8f3499007db0cdce9837dfccd"
   },
   "source": [
    "### **Q2.** \n",
    "**위에서는 Lasso 모델의 non-zero coefficient를 세어 보았습니다. 그렇다면, OLS를 이용한 모델 (`model_ols`)에서는 몇 개의 non-zero coefficient가 있나요? Ridge 모델의 경우는 어떤가요? 결과를 비교했을 때, Lasso 모델에서 관찰되는 특징은 무엇인가요?**"
   ]
  },
  {
   "cell_type": "code",
   "execution_count": 75,
   "metadata": {},
   "outputs": [
    {
     "name": "stdout",
     "output_type": "stream",
     "text": [
      "The ols model picked 288 variablesand eliminated the other 0 variables\n",
      "The ridge model picked 288 variablesand eliminated the other 0 variables\n"
     ]
    }
   ],
   "source": [
    "### **Q2.** 답변\n",
    "############## YOUR CODE HERE BELOW ##############\n",
    "#OLS 이용한 모델 model_ols\n",
    "\n",
    "coef_ols= pd.Series(model_ols.coef_, index = X_train.columns)\n",
    "\n",
    "#print(coef_ols)\n",
    "\n",
    "print(\"The ols model picked \" + str(sum(coef_ols != 0)) + \" variables\" + \n",
    "      \"and eliminated the other \" +  str(sum(coef_ols == 0)) + \" variables\")      \n",
    "\n",
    "#Ridge 모델 \n",
    "\n",
    "coef_ridge= pd.Series(model_ridge.coef_, index = X_train.columns)\n",
    "\n",
    "#print(coef_ridge)\n",
    "\n",
    "print(\"The ridge model picked \" + str(sum(coef_ridge != 0)) + \" variables\" +\n",
    "      \"and eliminated the other \" +  str(sum(coef_ridge == 0)) + \" variables\")\n",
    "\n",
    "\n"
   ]
  },
  {
   "cell_type": "markdown",
   "metadata": {},
   "source": [
    "해석\n",
    "model_dls에서는 non_zero_coefficient 가 존재하진 않습니다.\n",
    "또한 ridge model에서도 존재하지 않습니다."
   ]
  },
  {
   "cell_type": "markdown",
   "metadata": {
    "_cell_guid": "632e23a8-948f-c692-f5e9-1aa8a75f21d5",
    "_uuid": "68f1c4d6067a3879d516e84214038dcaf3c69801"
   },
   "source": [
    "한편, coefficient의 절댓값이 큰 feature를 주목할 수도 있습니다. coefficient의 절댓값이 크다는 것은, prediction에 해당 feature가 큰 영향을 준다는 것과 연관되어 있습니다. 이렇게 데이터의 important features를 선택하는 경우에도 linear model은 의미있는 정보를 제공합니다."
   ]
  },
  {
   "cell_type": "code",
   "execution_count": 84,
   "metadata": {
    "_cell_guid": "87317789-6e7e-d57f-0b54-d8ba0ee26abf",
    "_uuid": "9fdbc3de33ba42b6ebd6a3b3f632c8c97d309786",
    "scrolled": false
   },
   "outputs": [
    {
     "name": "stdout",
     "output_type": "stream",
     "text": [
      "RoofMatl_ClyTile        -0.015710\n",
      "MSZoning_C (all)        -0.007290\n",
      "Condition2_PosN         -0.004389\n",
      "Functional_Maj2         -0.001372\n",
      "Neighborhood_Edwards    -0.001170\n",
      "SaleCondition_Abnorml   -0.001121\n",
      "CentralAir_N            -0.000938\n",
      "MSZoning_RM             -0.000891\n",
      "GarageCond_Fa           -0.000826\n",
      "Heating_Grav            -0.000826\n",
      "OverallQual              0.001130\n",
      "KitchenQual_Ex           0.001229\n",
      "Neighborhood_NridgHt     0.001384\n",
      "Exterior1st_BrkFace      0.001432\n",
      "Neighborhood_NoRidge     0.001481\n",
      "Functional_Typ           0.001552\n",
      "LotArea                  0.001556\n",
      "Neighborhood_StoneBr     0.002218\n",
      "Neighborhood_Crawfor     0.002252\n",
      "GrLivArea                0.009114\n",
      "dtype: float64\n"
     ]
    },
    {
     "data": {
      "image/png": "[encoded data removed]",
      "text/plain": [
       "<Figure size 576x720 with 1 Axes>"
      ]
     },
     "metadata": {},
     "output_type": "display_data"
    }
   ],
   "source": [
    "matplotlib.rcParams['figure.figsize'] = (8.0, 10.0)\n",
    "\n",
    "# 절댓값이 큰 coefficients를 선택합니다.\n",
    "imp_coef = pd.concat([coef_lasso.sort_values().head(10), \n",
    "                      coef_lasso.sort_values().tail(10)])\n",
    "imp_coef.plot(kind = \"barh\")\n",
    "plt.title(\"Important features in the Lasso Model\")\n",
    "print(imp_coef) "
   ]
  },
  {
   "cell_type": "code",
   "execution_count": 88,
   "metadata": {},
   "outputs": [
    {
     "data": {
      "text/plain": [
       "MSZoning_C (all)        -0.003326\n",
       "RoofMatl_ClyTile        -0.002081\n",
       "Neighborhood_Edwards    -0.001613\n",
       "Condition2_PosN         -0.001582\n",
       "Functional_Maj2         -0.001367\n",
       "Neighborhood_IDOTRR     -0.001189\n",
       "Heating_Grav            -0.001116\n",
       "Neighborhood_MeadowV    -0.001099\n",
       "PoolQC_Gd               -0.000977\n",
       "SaleCondition_Abnorml   -0.000919\n",
       "RoofMatl_WdShngl         0.001252\n",
       "Neighborhood_NridgHt     0.001280\n",
       "Neighborhood_NoRidge     0.001307\n",
       "Exterior1st_BrkFace      0.001356\n",
       "Functional_Typ           0.001456\n",
       "LotArea                  0.001608\n",
       "Neighborhood_StoneBr     0.001809\n",
       "Neighborhood_Crawfor     0.001920\n",
       "1stFlrSF                 0.002673\n",
       "GrLivArea                0.004480\n",
       "dtype: float64"
      ]
     },
     "execution_count": 88,
     "metadata": {},
     "output_type": "execute_result"
    },
    {
     "data": {
      "image/png": "[encoded data removed]",
      "text/plain": [
       "<Figure size 576x720 with 1 Axes>"
      ]
     },
     "metadata": {},
     "output_type": "display_data"
    }
   ],
   "source": [
    "matplotlib.rcParams['figure.figsize'] = (8.0, 10.0)\n",
    "\n",
    "# 절댓값이 큰 coefficients를 선택합니다.\n",
    "imp_coef_ridge = pd.concat([coef_ridge.sort_values().head(10), \n",
    "                      coef_ridge.sort_values().tail(10)])\n",
    "imp_coef_ridge.plot(kind = \"barh\")\n",
    "plt.title(\"Important features in the Ridge Model\")\n",
    "imp_coef_ridge"
   ]
  },
  {
   "cell_type": "markdown",
   "metadata": {
    "_cell_guid": "ca153134-b109-1afc-e066-44273f65d44c",
    "_uuid": "cf288c43be9827c8f3499007db0cdce9837dfccd"
   },
   "source": [
    "### **Q3.** \n",
    "**위 분석에 따르면, house price 예측 모델에서 높은 가격의 가장 큰 요인은 (feature는) 무엇인가요? 반면, 가장 가격을 떨어뜨렸던 요인은 무엇인가요? 배포해드린 데이터 명세 자료를 바탕으로, 각 feature가 실제로 가지는 의미를 분석해주세요. 이 밖에도, 추가적으로 자유롭게 결과를 분석해주시길 바랍니다.**"
   ]
  },
  {
   "cell_type": "markdown",
   "metadata": {},
   "source": [
    "### **Q3.** 답변\n",
    "집값에 대한 중요한 feature 값이 모델마다 차이가 나는데요. \n",
    "   Lasso 모델은 가장 큰 요인은  RoofMatl_ClyTile  가장 뚜렷하게 중요 feature로 예상됩니다.   \n",
    "     RoofMatl_ClyTile        -0.015710\n",
    "   Ridge 모델에서는  MSZoning_C (all)  가장 중요한 요소입니다. \n",
    "      MSZoning_C (all)        -0.003326\n",
    "      \n",
    "그리고 가격을 떨어트리는 요소는  \n",
    "   Lasso 모델은 RootMati_CityTile 로 -에서 가장 큰 요소이니다. \n",
    "   Ridge 모델에서는 MSZoning_C (all) 입니다. \n",
    "   \n",
    "참고자료로 분석표 첨부합니다. \n",
    "    \n",
    "   "
   ]
  },
  {
   "cell_type": "markdown",
   "metadata": {
    "_cell_guid": "74c9bdd2-afbb-5fdf-a776-a8eebfa30d12",
    "_uuid": "16dbaa380f0f55ad7c47b80ffd93450870a80d26"
   },
   "source": [
    "## 모델 적용하기\n",
    "\n",
    "학습된 모델은 새로운 데이터에 대해서도 prediction을 수행할 수 있습니다. 이제 Testing data에 대해서도 prediction을 해 보고, 결과를 Kaggle에 제출해봅시다. 모델을 학습하기 전에 target을 `log(feature+1)` 로 변환했던 것을 유의하시길 바랍니다. `numpy.expm1()` 함수를 통해 역변환을 수행하여 실제 target의 scale에 맞추어 줍니다."
   ]
  },
  {
   "cell_type": "code",
   "execution_count": 89,
   "metadata": {
    "_cell_guid": "2bba690f-ad55-1dd5-19fa-2dccd695780b",
    "_uuid": "19954aeb3afae6012a08908f5343535c5f2ca60f"
   },
   "outputs": [
    {
     "name": "stdout",
     "output_type": "stream",
     "text": [
      "[2.54234456 2.56613097 2.57629015 ... 2.5719546  2.54259324 2.58773737]\n",
      "[2.54140039 2.55900279 2.57288118 ... 2.56782299 2.54064594 2.59082611]\n",
      "[2.54065024 2.55989389 2.57298799 ... 2.56900903 2.53942924 2.5895321 ]\n"
     ]
    }
   ],
   "source": [
    "# OLS model과 Lasso model의 prediction을 계산합니다.\n",
    "ols_preds = np.expm1(model_ols.predict(X_test))\n",
    "lasso_preds = np.expm1(model_lasso.predict(X_test))\n",
    "\n",
    "\n",
    "print(ols_preds)\n",
    "print(lasso_preds)\n",
    "\n",
    "\n",
    "\n"
   ]
  },
  {
   "cell_type": "code",
   "execution_count": 90,
   "metadata": {
    "_cell_guid": "569d7154-e3b5-84ab-1d28-57bdc02955d9",
    "_uuid": "1202311fd44d82b4839bf4b62f08195b45307e6d"
   },
   "outputs": [],
   "source": [
    "# prediction 결과를 Kaggle에 제출할 수 있는 포맷으로 저장합니다.\n",
    "solution = pd.DataFrame({\"id\":test.Id, \"SalePrice\":lasso_preds})\n",
    "solution.to_csv(\"house_sol_lasso.csv\", index = False)\n",
    "\n",
    "solution = pd.DataFrame({\"id\":test.Id, \"SalePrice\":ols_preds})\n",
    "solution.to_csv(\"house_sol_ols.csv\", index = False)\n",
    "\n"
   ]
  },
  {
   "cell_type": "markdown",
   "metadata": {},
   "source": [
    "결과를 제출한 뒤, training 데이터에서 더 좋은 성능을 보였던 Lasso 모델의 결과가 실제 test 데이터에서도 잘 나오는지 Kaggle 점수를 통해 확인해봅시다.\n",
    "https://www.kaggle.com/c/house-prices-advanced-regression-techniques"
   ]
  },
  {
   "cell_type": "markdown",
   "metadata": {
    "_cell_guid": "ca153134-b109-1afc-e066-44273f65d44c",
    "_uuid": "cf288c43be9827c8f3499007db0cdce9837dfccd"
   },
   "source": [
    "### **Q4.** \n",
    "**이제 자유롭게 회귀 모델링을 수행하여 최대한 좋은 성능의 모델을 만들어 보세요. 성능을 올릴 수 있는 다양한 방법이 존재합니다:**\n",
    "\n",
    "* 다른 regression 모델을 활용: [API document](http://scikit-learn.org/stable/modules/classes.html)\n",
    "    * e.g. [Generalized linear models](http://scikit-learn.org/stable/modules/generated/sklearn.ensemble.RandomForestRegressor.html#sklearn.ensemble.RandomForestRegressor), [Random forest](http://scikit-learn.org/stable/modules/generated/sklearn.ensemble.RandomForestRegressor.html#sklearn.ensemble.RandomForestRegressor), [Neural network](http://scikit-learn.org/stable/modules/generated/sklearn.neural_network.MLPRegressor.html#sklearn.neural_network.MLPRegressor)\n",
    "* 여러 개의 모델 prediction을 평균하여 새로운 결과 도출: [앙상블 기법](https://swalloow.github.io/bagging-boosting) \n",
    "* 데이터를 새로운 방식으로 정제\n",
    "* ... etc.\n",
    "\n",
    "**다양한 모델의 prediction을 실제로 Kaggle에 제출하고, 가장 높은 test score가 나온 모델은 Kaggle 화면을 스크린샷으로 캡처하여 보고서에 첨부해주세요. Kaggle에 제출이 불가능한 경우, 해당 모델의 `mean_cv_rmse()` 점수를 대신 레포트 해주세요. 최종 test score는 보고서 점수에 일부 반영될 예정이지만, 성능이 오르지 않더라도 본인이 시도했던 방법들을 보고서에 상세히 작성해주세요.**"
   ]
  },
  {
   "cell_type": "code",
   "execution_count": 92,
   "metadata": {},
   "outputs": [
    {
     "name": "stdout",
     "output_type": "stream",
     "text": [
      "[2.54065024 2.55989389 2.57298799 ... 2.56900903 2.53942924 2.5895321 ]\n"
     ]
    }
   ],
   "source": [
    "############## YOUR CODE HERE BELOW ##############\n",
    "\n",
    "#ridge를 이용한 모델 \n",
    "ridge_preds = np.expm1(model_ridge.predict(X_test))\n",
    "print(ridge_preds)\n",
    "\n",
    "solution = pd.DataFrame({\"id\":test.Id, \"SalePrice\":ridge_preds})\n",
    "solution.to_csv(\"house_sol_ridge.csv\", index = False)\n"
   ]
  },
  {
   "cell_type": "code",
   "execution_count": 93,
   "metadata": {},
   "outputs": [
    {
     "name": "stdout",
     "output_type": "stream",
     "text": [
      "[0.18146984 0.81473937 0.00145312 0.00233767]\n"
     ]
    }
   ],
   "source": [
    "#RadmonForest \n",
    "\n",
    "from sklearn.ensemble import RandomForestRegressor\n",
    "from sklearn.datasets import make_regression\n",
    "\n",
    "X, y = make_regression(n_features=4, n_informative=2,random_state=0, shuffle=False)\n",
    "\n",
    "regr = RandomForestRegressor(max_depth=2, random_state=0,n_estimators=100)\n",
    "\n",
    "\n",
    "RandomForestRegressor(bootstrap=True, criterion='mse', max_depth=2,\n",
    "           max_features='auto', max_leaf_nodes=None,\n",
    "           min_impurity_decrease=0.0, min_impurity_split=None,\n",
    "           min_samples_leaf=1, min_samples_split=2,\n",
    "           min_weight_fraction_leaf=0.0, n_estimators=100, n_jobs=None,\n",
    "           oob_score=False, random_state=0, verbose=0, warm_start=False)\n",
    "\n",
    "print(regr.feature_importances_)\n",
    "\n",
    "model_lasso.fit(X_train, y)\n",
    "\n",
    "regr.fit(X, y)\n"
   ]
  }
 ],
 "metadata": {
  "_change_revision": 0,
  "_is_fork": false,
  "kernelspec": {
   "display_name": "Python 3",
   "language": "python",
   "name": "python3"
  },
  "language_info": {
   "codemirror_mode": {
    "name": "ipython",
    "version": 3
   },
   "file_extension": ".py",
   "mimetype": "text/x-python",
   "name": "python",
   "nbconvert_exporter": "python",
   "pygments_lexer": "ipython3",
   "version": "3.6.5"
  }
 },
 "nbformat": 4,
 "nbformat_minor": 1
}
