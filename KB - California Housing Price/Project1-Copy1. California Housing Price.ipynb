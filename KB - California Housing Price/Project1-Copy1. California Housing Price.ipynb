{
 "cells": [
  {
   "cell_type": "markdown",
   "metadata": {},
   "source": [
    "# California Housing Price \n",
    "reference : exercise in chapter 2 of 'Hands-On Machine Learning with Scikit-learn and Tensorflow' by Aurélien Géron. \n",
    "\n",
    "##### Tip> shortcuts for Jupyter Notebook\n",
    "* Shift + Enter : run cell and select below"
   ]
  },
  {
   "cell_type": "markdown",
   "metadata": {},
   "source": [
    "## 1. Data Loading\n",
    "\n",
    "Load the data by using *read_csv()* method in __Pandas__ module. Then, let's take a look at the top 10 rows using the *head()* method. "
   ]
  },
  {
   "cell_type": "code",
   "execution_count": 2,
   "metadata": {
    "scrolled": false
   },
   "outputs": [],
   "source": [
    "# Data load\n",
    "import pandas as pd\n",
    "\n",
    "housing = pd.read_csv('housing.csv')\n",
    "\n"
   ]
  },
  {
   "cell_type": "code",
   "execution_count": 3,
   "metadata": {},
   "outputs": [
    {
     "data": {
      "text/html": [
       "<div>\n",
       "<style scoped>\n",
       "    .dataframe tbody tr th:only-of-type {\n",
       "        vertical-align: middle;\n",
       "    }\n",
       "\n",
       "    .dataframe tbody tr th {\n",
       "        vertical-align: top;\n",
       "    }\n",
       "\n",
       "    .dataframe thead th {\n",
       "        text-align: right;\n",
       "    }\n",
       "</style>\n",
       "<table border=\"1\" class=\"dataframe\">\n",
       "  <thead>\n",
       "    <tr style=\"text-align: right;\">\n",
       "      <th></th>\n",
       "      <th>longitude</th>\n",
       "      <th>latitude</th>\n",
       "      <th>housing_median_age</th>\n",
       "      <th>total_rooms</th>\n",
       "      <th>total_bedrooms</th>\n",
       "      <th>population</th>\n",
       "      <th>households</th>\n",
       "      <th>median_income</th>\n",
       "      <th>median_house_value</th>\n",
       "      <th>ocean_proximity</th>\n",
       "    </tr>\n",
       "  </thead>\n",
       "  <tbody>\n",
       "    <tr>\n",
       "      <th>0</th>\n",
       "      <td>-122.23</td>\n",
       "      <td>37.88</td>\n",
       "      <td>41.0</td>\n",
       "      <td>880.0</td>\n",
       "      <td>129.0</td>\n",
       "      <td>322.0</td>\n",
       "      <td>126.0</td>\n",
       "      <td>8.3252</td>\n",
       "      <td>452600.0</td>\n",
       "      <td>NEAR BAY</td>\n",
       "    </tr>\n",
       "    <tr>\n",
       "      <th>1</th>\n",
       "      <td>-122.22</td>\n",
       "      <td>37.86</td>\n",
       "      <td>21.0</td>\n",
       "      <td>7099.0</td>\n",
       "      <td>1106.0</td>\n",
       "      <td>2401.0</td>\n",
       "      <td>1138.0</td>\n",
       "      <td>8.3014</td>\n",
       "      <td>358500.0</td>\n",
       "      <td>NEAR BAY</td>\n",
       "    </tr>\n",
       "    <tr>\n",
       "      <th>2</th>\n",
       "      <td>-122.24</td>\n",
       "      <td>37.85</td>\n",
       "      <td>52.0</td>\n",
       "      <td>1467.0</td>\n",
       "      <td>190.0</td>\n",
       "      <td>496.0</td>\n",
       "      <td>177.0</td>\n",
       "      <td>7.2574</td>\n",
       "      <td>352100.0</td>\n",
       "      <td>NEAR BAY</td>\n",
       "    </tr>\n",
       "    <tr>\n",
       "      <th>3</th>\n",
       "      <td>-122.25</td>\n",
       "      <td>37.85</td>\n",
       "      <td>52.0</td>\n",
       "      <td>1274.0</td>\n",
       "      <td>235.0</td>\n",
       "      <td>558.0</td>\n",
       "      <td>219.0</td>\n",
       "      <td>5.6431</td>\n",
       "      <td>341300.0</td>\n",
       "      <td>NEAR BAY</td>\n",
       "    </tr>\n",
       "    <tr>\n",
       "      <th>4</th>\n",
       "      <td>-122.25</td>\n",
       "      <td>37.85</td>\n",
       "      <td>52.0</td>\n",
       "      <td>1627.0</td>\n",
       "      <td>280.0</td>\n",
       "      <td>565.0</td>\n",
       "      <td>259.0</td>\n",
       "      <td>3.8462</td>\n",
       "      <td>342200.0</td>\n",
       "      <td>NEAR BAY</td>\n",
       "    </tr>\n",
       "    <tr>\n",
       "      <th>5</th>\n",
       "      <td>-122.25</td>\n",
       "      <td>37.85</td>\n",
       "      <td>52.0</td>\n",
       "      <td>919.0</td>\n",
       "      <td>213.0</td>\n",
       "      <td>413.0</td>\n",
       "      <td>193.0</td>\n",
       "      <td>4.0368</td>\n",
       "      <td>269700.0</td>\n",
       "      <td>NEAR BAY</td>\n",
       "    </tr>\n",
       "    <tr>\n",
       "      <th>6</th>\n",
       "      <td>-122.25</td>\n",
       "      <td>37.84</td>\n",
       "      <td>52.0</td>\n",
       "      <td>2535.0</td>\n",
       "      <td>489.0</td>\n",
       "      <td>1094.0</td>\n",
       "      <td>514.0</td>\n",
       "      <td>3.6591</td>\n",
       "      <td>299200.0</td>\n",
       "      <td>NEAR BAY</td>\n",
       "    </tr>\n",
       "    <tr>\n",
       "      <th>7</th>\n",
       "      <td>-122.25</td>\n",
       "      <td>37.84</td>\n",
       "      <td>52.0</td>\n",
       "      <td>3104.0</td>\n",
       "      <td>687.0</td>\n",
       "      <td>1157.0</td>\n",
       "      <td>647.0</td>\n",
       "      <td>3.1200</td>\n",
       "      <td>241400.0</td>\n",
       "      <td>NEAR BAY</td>\n",
       "    </tr>\n",
       "    <tr>\n",
       "      <th>8</th>\n",
       "      <td>-122.26</td>\n",
       "      <td>37.84</td>\n",
       "      <td>42.0</td>\n",
       "      <td>2555.0</td>\n",
       "      <td>665.0</td>\n",
       "      <td>1206.0</td>\n",
       "      <td>595.0</td>\n",
       "      <td>2.0804</td>\n",
       "      <td>226700.0</td>\n",
       "      <td>NEAR BAY</td>\n",
       "    </tr>\n",
       "    <tr>\n",
       "      <th>9</th>\n",
       "      <td>-122.25</td>\n",
       "      <td>37.84</td>\n",
       "      <td>52.0</td>\n",
       "      <td>3549.0</td>\n",
       "      <td>707.0</td>\n",
       "      <td>1551.0</td>\n",
       "      <td>714.0</td>\n",
       "      <td>3.6912</td>\n",
       "      <td>261100.0</td>\n",
       "      <td>NEAR BAY</td>\n",
       "    </tr>\n",
       "  </tbody>\n",
       "</table>\n",
       "</div>"
      ],
      "text/plain": [
       "   longitude  latitude  housing_median_age  total_rooms  total_bedrooms  \\\n",
       "0    -122.23     37.88                41.0        880.0           129.0   \n",
       "1    -122.22     37.86                21.0       7099.0          1106.0   \n",
       "2    -122.24     37.85                52.0       1467.0           190.0   \n",
       "3    -122.25     37.85                52.0       1274.0           235.0   \n",
       "4    -122.25     37.85                52.0       1627.0           280.0   \n",
       "5    -122.25     37.85                52.0        919.0           213.0   \n",
       "6    -122.25     37.84                52.0       2535.0           489.0   \n",
       "7    -122.25     37.84                52.0       3104.0           687.0   \n",
       "8    -122.26     37.84                42.0       2555.0           665.0   \n",
       "9    -122.25     37.84                52.0       3549.0           707.0   \n",
       "\n",
       "   population  households  median_income  median_house_value ocean_proximity  \n",
       "0       322.0       126.0         8.3252            452600.0        NEAR BAY  \n",
       "1      2401.0      1138.0         8.3014            358500.0        NEAR BAY  \n",
       "2       496.0       177.0         7.2574            352100.0        NEAR BAY  \n",
       "3       558.0       219.0         5.6431            341300.0        NEAR BAY  \n",
       "4       565.0       259.0         3.8462            342200.0        NEAR BAY  \n",
       "5       413.0       193.0         4.0368            269700.0        NEAR BAY  \n",
       "6      1094.0       514.0         3.6591            299200.0        NEAR BAY  \n",
       "7      1157.0       647.0         3.1200            241400.0        NEAR BAY  \n",
       "8      1206.0       595.0         2.0804            226700.0        NEAR BAY  \n",
       "9      1551.0       714.0         3.6912            261100.0        NEAR BAY  "
      ]
     },
     "execution_count": 3,
     "metadata": {},
     "output_type": "execute_result"
    }
   ],
   "source": [
    "housing.head(10)\n",
    "\n",
    "#len(housing) #데이터 갯수\n",
    "\n",
    "#housing.shape\n",
    "\n",
    "#housing.columns\n",
    "\n",
    "#housing.info()"
   ]
  },
  {
   "cell_type": "markdown",
   "metadata": {},
   "source": [
    "Let's see the distribution of the data by using __matplotlib__ module briefly."
   ]
  },
  {
   "cell_type": "code",
   "execution_count": 4,
   "metadata": {},
   "outputs": [
    {
     "data": {
      "text/plain": [
       "<matplotlib.legend.Legend at 0x1b33843a5f8>"
      ]
     },
     "execution_count": 4,
     "metadata": {},
     "output_type": "execute_result"
    },
    {
     "data": {
      "image/png": "[encoded data removed]",
      "text/plain": [
       "<Figure size 720x504 with 2 Axes>"
      ]
     },
     "metadata": {},
     "output_type": "display_data"
    }
   ],
   "source": [
    "# figures plotting with data\n",
    "%matplotlib inline\n",
    "import matplotlib\n",
    "import matplotlib.pyplot as plt\n",
    "plt.rcParams['axes.labelsize'] = 14\n",
    "plt.rcParams['xtick.labelsize'] = 12\n",
    "plt.rcParams['ytick.labelsize'] = 12\n",
    "\n",
    "housing.plot(kind=\"scatter\", x=\"longitude\", y=\"latitude\", alpha=0.4,\n",
    "    s=housing[\"population\"]/50, label=\"population\", figsize=(10,7),\n",
    "    c=\"median_house_value\", cmap=plt.get_cmap(\"jet\"), colorbar=True,\n",
    "    sharex=False)\n",
    "\n",
    "plt.legend()"
   ]
  },
  {
   "cell_type": "markdown",
   "metadata": {},
   "source": [
    "데이터 분석하기"
   ]
  },
  {
   "cell_type": "code",
   "execution_count": 5,
   "metadata": {},
   "outputs": [
    {
     "data": {
      "text/plain": [
       "(20640, 10)"
      ]
     },
     "execution_count": 5,
     "metadata": {},
     "output_type": "execute_result"
    }
   ],
   "source": [
    "housing.shape #전체 데이터 조회"
   ]
  },
  {
   "cell_type": "code",
   "execution_count": null,
   "metadata": {},
   "outputs": [],
   "source": [
    "housing.describe()"
   ]
  },
  {
   "cell_type": "code",
   "execution_count": null,
   "metadata": {},
   "outputs": [],
   "source": [
    "%matplotlib inline \n",
    "housing.plot(kind='bar')\n",
    "\n",
    "category_count"
   ]
  },
  {
   "cell_type": "markdown",
   "metadata": {},
   "source": [
    "To better understand the characteristics of each feature, let's apply the *info()* method."
   ]
  },
  {
   "cell_type": "code",
   "execution_count": null,
   "metadata": {
    "scrolled": false
   },
   "outputs": [],
   "source": [
    "# check a structure of the data\n",
    "housing.info()"
   ]
  },
  {
   "cell_type": "markdown",
   "metadata": {},
   "source": [
    "Let’s look at how much each attribute correlates with the *median house value*:"
   ]
  },
  {
   "cell_type": "code",
   "execution_count": 28,
   "metadata": {},
   "outputs": [
    {
     "data": {
      "text/plain": [
       "median_house_value    1.000000\n",
       "median_income         0.688075\n",
       "total_rooms           0.134153\n",
       "housing_median_age    0.105623\n",
       "households            0.065843\n",
       "total_bedrooms        0.049686\n",
       "population           -0.024650\n",
       "longitude            -0.045967\n",
       "latitude             -0.144160\n",
       "Name: median_house_value, dtype: float64"
      ]
     },
     "execution_count": 28,
     "metadata": {},
     "output_type": "execute_result"
    }
   ],
   "source": [
    "# correlation between the median_house_value and other features\n",
    "corr_matrix = housing.corr()  # feature 들간의 correlation (상관도) 예측\n",
    "\n",
    "\n",
    "corr_matrix['median_house_value'].sort_values(ascending=False)\n",
    "\n",
    "#corr_matrix['median_income'].sort_values(ascending=False)"
   ]
  },
  {
   "cell_type": "code",
   "execution_count": null,
   "metadata": {},
   "outputs": [],
   "source": []
  },
  {
   "cell_type": "markdown",
   "metadata": {},
   "source": [
    "## 2. Prepare the Data\n",
    "\n",
    "this step consists of 'pre-processing', 'train-test seperation', and 'feature-label seperation'."
   ]
  },
  {
   "cell_type": "markdown",
   "metadata": {},
   "source": [
    "### 2-1) Pre-processing \n",
    "\n",
    "#### 2-1.1) Data cleaning\n",
    "Most Machine Learning algorithms cannot work with missing features, so let’s replace the empty values of 'total_bedrooms' with the median value."
   ]
  },
  {
   "cell_type": "code",
   "execution_count": 31,
   "metadata": {},
   "outputs": [
    {
     "name": "stdout",
     "output_type": "stream",
     "text": [
      "435.0\n",
      "<class 'pandas.core.frame.DataFrame'>\n",
      "RangeIndex: 20640 entries, 0 to 20639\n",
      "Data columns (total 10 columns):\n",
      "longitude             20640 non-null float64\n",
      "latitude              20640 non-null float64\n",
      "housing_median_age    20640 non-null float64\n",
      "total_rooms           20640 non-null float64\n",
      "total_bedrooms        20640 non-null float64\n",
      "population            20640 non-null float64\n",
      "households            20640 non-null float64\n",
      "median_income         20640 non-null float64\n",
      "median_house_value    20640 non-null float64\n",
      "ocean_proximity       20640 non-null object\n",
      "dtypes: float64(9), object(1)\n",
      "memory usage: 1.6+ MB\n"
     ]
    }
   ],
   "source": [
    "# replace the empty values with the median  데이터 채우기\n",
    "median =housing[\"total_bedrooms\"].median()\n",
    "\n",
    "print(median)\n",
    "housing[\"total_bedrooms\"] = housing[\"total_bedrooms\"].fillna(median)   # fillna =ㅂ=fill none 값 채우기\n",
    "\n",
    "housing.info()"
   ]
  },
  {
   "cell_type": "markdown",
   "metadata": {},
   "source": [
    "#### 2-1.2) Attributes combinations\n",
    "*rooms_per_household* is more meaningful than *total_rooms*. Also, *bedrooms_per_room* is more meaningful than *total_bedrooms*."
   ]
  },
  {
   "cell_type": "code",
   "execution_count": 32,
   "metadata": {},
   "outputs": [
    {
     "name": "stdout",
     "output_type": "stream",
     "text": [
      "<class 'pandas.core.frame.DataFrame'>\n",
      "RangeIndex: 20640 entries, 0 to 20639\n",
      "Data columns (total 10 columns):\n",
      "longitude              20640 non-null float64\n",
      "latitude               20640 non-null float64\n",
      "housing_median_age     20640 non-null float64\n",
      "population             20640 non-null float64\n",
      "households             20640 non-null float64\n",
      "median_income          20640 non-null float64\n",
      "median_house_value     20640 non-null float64\n",
      "ocean_proximity        20640 non-null object\n",
      "rooms_per_household    20640 non-null float64\n",
      "bedrooms_per_room      20640 non-null float64\n",
      "dtypes: float64(9), object(1)\n",
      "memory usage: 1.6+ MB\n"
     ]
    }
   ],
   "source": [
    "# Attributes combinations\n",
    "housing[\"rooms_per_household\"] = housing[\"total_rooms\"]/housing[\"households\"]\n",
    "housing[\"bedrooms_per_room\"] = housing[\"total_bedrooms\"]/housing[\"total_rooms\"]\n",
    "del housing[\"total_rooms\"], housing[\"total_bedrooms\"]\n",
    "\n",
    "housing.info()"
   ]
  },
  {
   "cell_type": "markdown",
   "metadata": {},
   "source": [
    "#### 2-1.3) Feature Scaling\n",
    "Machine Learning algorithms don’t perform well when the input numerical attributes have very different scales.\n",
    "\n",
    "__Scikit-Learn__ provides a transformer called *StandardScaler* for *standardization*."
   ]
  },
  {
   "cell_type": "code",
   "execution_count": 33,
   "metadata": {
    "scrolled": true
   },
   "outputs": [
    {
     "data": {
      "text/html": [
       "<div>\n",
       "<style scoped>\n",
       "    .dataframe tbody tr th:only-of-type {\n",
       "        vertical-align: middle;\n",
       "    }\n",
       "\n",
       "    .dataframe tbody tr th {\n",
       "        vertical-align: top;\n",
       "    }\n",
       "\n",
       "    .dataframe thead th {\n",
       "        text-align: right;\n",
       "    }\n",
       "</style>\n",
       "<table border=\"1\" class=\"dataframe\">\n",
       "  <thead>\n",
       "    <tr style=\"text-align: right;\">\n",
       "      <th></th>\n",
       "      <th>longitude</th>\n",
       "      <th>latitude</th>\n",
       "      <th>housing_median_age</th>\n",
       "      <th>population</th>\n",
       "      <th>households</th>\n",
       "      <th>median_income</th>\n",
       "      <th>rooms_per_household</th>\n",
       "      <th>bedrooms_per_room</th>\n",
       "      <th>median_house_value</th>\n",
       "      <th>ocean_proximity</th>\n",
       "    </tr>\n",
       "  </thead>\n",
       "  <tbody>\n",
       "    <tr>\n",
       "      <th>0</th>\n",
       "      <td>-1.327835</td>\n",
       "      <td>1.052548</td>\n",
       "      <td>0.982143</td>\n",
       "      <td>-0.974429</td>\n",
       "      <td>-0.977033</td>\n",
       "      <td>2.344766</td>\n",
       "      <td>0.628559</td>\n",
       "      <td>-1.029988</td>\n",
       "      <td>452600.0</td>\n",
       "      <td>NEAR BAY</td>\n",
       "    </tr>\n",
       "    <tr>\n",
       "      <th>1</th>\n",
       "      <td>-1.322844</td>\n",
       "      <td>1.043185</td>\n",
       "      <td>-0.607019</td>\n",
       "      <td>0.861439</td>\n",
       "      <td>1.669961</td>\n",
       "      <td>2.332238</td>\n",
       "      <td>0.327041</td>\n",
       "      <td>-0.888897</td>\n",
       "      <td>358500.0</td>\n",
       "      <td>NEAR BAY</td>\n",
       "    </tr>\n",
       "    <tr>\n",
       "      <th>2</th>\n",
       "      <td>-1.332827</td>\n",
       "      <td>1.038503</td>\n",
       "      <td>1.856182</td>\n",
       "      <td>-0.820777</td>\n",
       "      <td>-0.843637</td>\n",
       "      <td>1.782699</td>\n",
       "      <td>1.155620</td>\n",
       "      <td>-1.291686</td>\n",
       "      <td>352100.0</td>\n",
       "      <td>NEAR BAY</td>\n",
       "    </tr>\n",
       "    <tr>\n",
       "      <th>3</th>\n",
       "      <td>-1.337818</td>\n",
       "      <td>1.038503</td>\n",
       "      <td>1.856182</td>\n",
       "      <td>-0.766028</td>\n",
       "      <td>-0.733781</td>\n",
       "      <td>0.932968</td>\n",
       "      <td>0.156966</td>\n",
       "      <td>-0.449613</td>\n",
       "      <td>341300.0</td>\n",
       "      <td>NEAR BAY</td>\n",
       "    </tr>\n",
       "    <tr>\n",
       "      <th>4</th>\n",
       "      <td>-1.337818</td>\n",
       "      <td>1.038503</td>\n",
       "      <td>1.856182</td>\n",
       "      <td>-0.759847</td>\n",
       "      <td>-0.629157</td>\n",
       "      <td>-0.012881</td>\n",
       "      <td>0.344711</td>\n",
       "      <td>-0.639087</td>\n",
       "      <td>342200.0</td>\n",
       "      <td>NEAR BAY</td>\n",
       "    </tr>\n",
       "  </tbody>\n",
       "</table>\n",
       "</div>"
      ],
      "text/plain": [
       "   longitude  latitude  housing_median_age  population  households  \\\n",
       "0  -1.327835  1.052548            0.982143   -0.974429   -0.977033   \n",
       "1  -1.322844  1.043185           -0.607019    0.861439    1.669961   \n",
       "2  -1.332827  1.038503            1.856182   -0.820777   -0.843637   \n",
       "3  -1.337818  1.038503            1.856182   -0.766028   -0.733781   \n",
       "4  -1.337818  1.038503            1.856182   -0.759847   -0.629157   \n",
       "\n",
       "   median_income  rooms_per_household  bedrooms_per_room  median_house_value  \\\n",
       "0       2.344766             0.628559          -1.029988            452600.0   \n",
       "1       2.332238             0.327041          -0.888897            358500.0   \n",
       "2       1.782699             1.155620          -1.291686            352100.0   \n",
       "3       0.932968             0.156966          -0.449613            341300.0   \n",
       "4      -0.012881             0.344711          -0.639087            342200.0   \n",
       "\n",
       "  ocean_proximity  \n",
       "0        NEAR BAY  \n",
       "1        NEAR BAY  \n",
       "2        NEAR BAY  \n",
       "3        NEAR BAY  \n",
       "4        NEAR BAY  "
      ]
     },
     "execution_count": 33,
     "metadata": {},
     "output_type": "execute_result"
    }
   ],
   "source": [
    "# feature standardization \n",
    "from sklearn.preprocessing import StandardScaler\n",
    "\n",
    "scaler = StandardScaler()\n",
    "\n",
    "# delete columns of text type and target variable\n",
    "col_list = list(housing) \n",
    "col_list.remove('ocean_proximity') # text type\n",
    "col_list.remove('median_house_value') # target variable needs not to be scaled\n",
    "\n",
    "# generate a new dataframe that consist of numeric type only\n",
    "housing_numeric = housing[col_list]\n",
    "housing_scaled = scaler.fit_transform(housing_numeric)\n",
    "\n",
    "\n",
    "# Data type conversion from 'Series' to 'DataFrame'\n",
    "housing_scaled_df = pd.DataFrame(housing_scaled, index=housing_numeric.index, columns=housing_numeric.columns)\n",
    "\n",
    "# Concatenate \n",
    "housing = pd.concat([housing_scaled_df, housing['median_house_value'], housing['ocean_proximity']], axis=1)\n",
    "housing.head()"
   ]
  },
  {
   "cell_type": "markdown",
   "metadata": {},
   "source": [
    "#### 2-1.4) Handling Text and Categorical Attributes\n",
    "Most Machine Learning algorithms prefer to work with numbers anyway, so let’s convert the 'ocean_proximity' to numbers.\n",
    "\n",
    "__Pandas__ provides a *get_dummies* method to convert integer categorical values into one-hot vectors. "
   ]
  },
  {
   "cell_type": "code",
   "execution_count": 34,
   "metadata": {},
   "outputs": [
    {
     "data": {
      "text/html": [
       "<div>\n",
       "<style scoped>\n",
       "    .dataframe tbody tr th:only-of-type {\n",
       "        vertical-align: middle;\n",
       "    }\n",
       "\n",
       "    .dataframe tbody tr th {\n",
       "        vertical-align: top;\n",
       "    }\n",
       "\n",
       "    .dataframe thead th {\n",
       "        text-align: right;\n",
       "    }\n",
       "</style>\n",
       "<table border=\"1\" class=\"dataframe\">\n",
       "  <thead>\n",
       "    <tr style=\"text-align: right;\">\n",
       "      <th></th>\n",
       "      <th>longitude</th>\n",
       "      <th>latitude</th>\n",
       "      <th>housing_median_age</th>\n",
       "      <th>population</th>\n",
       "      <th>households</th>\n",
       "      <th>median_income</th>\n",
       "      <th>rooms_per_household</th>\n",
       "      <th>bedrooms_per_room</th>\n",
       "      <th>median_house_value</th>\n",
       "      <th>ocean_proximity_&lt;1H OCEAN</th>\n",
       "      <th>ocean_proximity_INLAND</th>\n",
       "      <th>ocean_proximity_ISLAND</th>\n",
       "      <th>ocean_proximity_NEAR BAY</th>\n",
       "      <th>ocean_proximity_NEAR OCEAN</th>\n",
       "    </tr>\n",
       "  </thead>\n",
       "  <tbody>\n",
       "    <tr>\n",
       "      <th>0</th>\n",
       "      <td>-1.327835</td>\n",
       "      <td>1.052548</td>\n",
       "      <td>0.982143</td>\n",
       "      <td>-0.974429</td>\n",
       "      <td>-0.977033</td>\n",
       "      <td>2.344766</td>\n",
       "      <td>0.628559</td>\n",
       "      <td>-1.029988</td>\n",
       "      <td>452600.0</td>\n",
       "      <td>0</td>\n",
       "      <td>0</td>\n",
       "      <td>0</td>\n",
       "      <td>1</td>\n",
       "      <td>0</td>\n",
       "    </tr>\n",
       "    <tr>\n",
       "      <th>1</th>\n",
       "      <td>-1.322844</td>\n",
       "      <td>1.043185</td>\n",
       "      <td>-0.607019</td>\n",
       "      <td>0.861439</td>\n",
       "      <td>1.669961</td>\n",
       "      <td>2.332238</td>\n",
       "      <td>0.327041</td>\n",
       "      <td>-0.888897</td>\n",
       "      <td>358500.0</td>\n",
       "      <td>0</td>\n",
       "      <td>0</td>\n",
       "      <td>0</td>\n",
       "      <td>1</td>\n",
       "      <td>0</td>\n",
       "    </tr>\n",
       "    <tr>\n",
       "      <th>2</th>\n",
       "      <td>-1.332827</td>\n",
       "      <td>1.038503</td>\n",
       "      <td>1.856182</td>\n",
       "      <td>-0.820777</td>\n",
       "      <td>-0.843637</td>\n",
       "      <td>1.782699</td>\n",
       "      <td>1.155620</td>\n",
       "      <td>-1.291686</td>\n",
       "      <td>352100.0</td>\n",
       "      <td>0</td>\n",
       "      <td>0</td>\n",
       "      <td>0</td>\n",
       "      <td>1</td>\n",
       "      <td>0</td>\n",
       "    </tr>\n",
       "    <tr>\n",
       "      <th>3</th>\n",
       "      <td>-1.337818</td>\n",
       "      <td>1.038503</td>\n",
       "      <td>1.856182</td>\n",
       "      <td>-0.766028</td>\n",
       "      <td>-0.733781</td>\n",
       "      <td>0.932968</td>\n",
       "      <td>0.156966</td>\n",
       "      <td>-0.449613</td>\n",
       "      <td>341300.0</td>\n",
       "      <td>0</td>\n",
       "      <td>0</td>\n",
       "      <td>0</td>\n",
       "      <td>1</td>\n",
       "      <td>0</td>\n",
       "    </tr>\n",
       "    <tr>\n",
       "      <th>4</th>\n",
       "      <td>-1.337818</td>\n",
       "      <td>1.038503</td>\n",
       "      <td>1.856182</td>\n",
       "      <td>-0.759847</td>\n",
       "      <td>-0.629157</td>\n",
       "      <td>-0.012881</td>\n",
       "      <td>0.344711</td>\n",
       "      <td>-0.639087</td>\n",
       "      <td>342200.0</td>\n",
       "      <td>0</td>\n",
       "      <td>0</td>\n",
       "      <td>0</td>\n",
       "      <td>1</td>\n",
       "      <td>0</td>\n",
       "    </tr>\n",
       "    <tr>\n",
       "      <th>5</th>\n",
       "      <td>-1.337818</td>\n",
       "      <td>1.038503</td>\n",
       "      <td>1.856182</td>\n",
       "      <td>-0.894071</td>\n",
       "      <td>-0.801787</td>\n",
       "      <td>0.087447</td>\n",
       "      <td>-0.269730</td>\n",
       "      <td>0.275563</td>\n",
       "      <td>269700.0</td>\n",
       "      <td>0</td>\n",
       "      <td>0</td>\n",
       "      <td>0</td>\n",
       "      <td>1</td>\n",
       "      <td>0</td>\n",
       "    </tr>\n",
       "    <tr>\n",
       "      <th>6</th>\n",
       "      <td>-1.337818</td>\n",
       "      <td>1.033821</td>\n",
       "      <td>1.856182</td>\n",
       "      <td>-0.292712</td>\n",
       "      <td>0.037823</td>\n",
       "      <td>-0.111366</td>\n",
       "      <td>-0.200918</td>\n",
       "      <td>-0.320242</td>\n",
       "      <td>299200.0</td>\n",
       "      <td>0</td>\n",
       "      <td>0</td>\n",
       "      <td>0</td>\n",
       "      <td>1</td>\n",
       "      <td>0</td>\n",
       "    </tr>\n",
       "    <tr>\n",
       "      <th>7</th>\n",
       "      <td>-1.337818</td>\n",
       "      <td>1.033821</td>\n",
       "      <td>1.856182</td>\n",
       "      <td>-0.237079</td>\n",
       "      <td>0.385698</td>\n",
       "      <td>-0.395137</td>\n",
       "      <td>-0.255232</td>\n",
       "      <td>0.115458</td>\n",
       "      <td>241400.0</td>\n",
       "      <td>0</td>\n",
       "      <td>0</td>\n",
       "      <td>0</td>\n",
       "      <td>1</td>\n",
       "      <td>0</td>\n",
       "    </tr>\n",
       "    <tr>\n",
       "      <th>8</th>\n",
       "      <td>-1.342809</td>\n",
       "      <td>1.033821</td>\n",
       "      <td>1.061601</td>\n",
       "      <td>-0.193810</td>\n",
       "      <td>0.249687</td>\n",
       "      <td>-0.942359</td>\n",
       "      <td>-0.458703</td>\n",
       "      <td>0.712372</td>\n",
       "      <td>226700.0</td>\n",
       "      <td>0</td>\n",
       "      <td>0</td>\n",
       "      <td>0</td>\n",
       "      <td>1</td>\n",
       "      <td>0</td>\n",
       "    </tr>\n",
       "    <tr>\n",
       "      <th>9</th>\n",
       "      <td>-1.337818</td>\n",
       "      <td>1.033821</td>\n",
       "      <td>1.856182</td>\n",
       "      <td>0.110844</td>\n",
       "      <td>0.560944</td>\n",
       "      <td>-0.094470</td>\n",
       "      <td>-0.185283</td>\n",
       "      <td>-0.223507</td>\n",
       "      <td>261100.0</td>\n",
       "      <td>0</td>\n",
       "      <td>0</td>\n",
       "      <td>0</td>\n",
       "      <td>1</td>\n",
       "      <td>0</td>\n",
       "    </tr>\n",
       "  </tbody>\n",
       "</table>\n",
       "</div>"
      ],
      "text/plain": [
       "   longitude  latitude  housing_median_age  population  households  \\\n",
       "0  -1.327835  1.052548            0.982143   -0.974429   -0.977033   \n",
       "1  -1.322844  1.043185           -0.607019    0.861439    1.669961   \n",
       "2  -1.332827  1.038503            1.856182   -0.820777   -0.843637   \n",
       "3  -1.337818  1.038503            1.856182   -0.766028   -0.733781   \n",
       "4  -1.337818  1.038503            1.856182   -0.759847   -0.629157   \n",
       "5  -1.337818  1.038503            1.856182   -0.894071   -0.801787   \n",
       "6  -1.337818  1.033821            1.856182   -0.292712    0.037823   \n",
       "7  -1.337818  1.033821            1.856182   -0.237079    0.385698   \n",
       "8  -1.342809  1.033821            1.061601   -0.193810    0.249687   \n",
       "9  -1.337818  1.033821            1.856182    0.110844    0.560944   \n",
       "\n",
       "   median_income  rooms_per_household  bedrooms_per_room  median_house_value  \\\n",
       "0       2.344766             0.628559          -1.029988            452600.0   \n",
       "1       2.332238             0.327041          -0.888897            358500.0   \n",
       "2       1.782699             1.155620          -1.291686            352100.0   \n",
       "3       0.932968             0.156966          -0.449613            341300.0   \n",
       "4      -0.012881             0.344711          -0.639087            342200.0   \n",
       "5       0.087447            -0.269730           0.275563            269700.0   \n",
       "6      -0.111366            -0.200918          -0.320242            299200.0   \n",
       "7      -0.395137            -0.255232           0.115458            241400.0   \n",
       "8      -0.942359            -0.458703           0.712372            226700.0   \n",
       "9      -0.094470            -0.185283          -0.223507            261100.0   \n",
       "\n",
       "   ocean_proximity_<1H OCEAN  ocean_proximity_INLAND  ocean_proximity_ISLAND  \\\n",
       "0                          0                       0                       0   \n",
       "1                          0                       0                       0   \n",
       "2                          0                       0                       0   \n",
       "3                          0                       0                       0   \n",
       "4                          0                       0                       0   \n",
       "5                          0                       0                       0   \n",
       "6                          0                       0                       0   \n",
       "7                          0                       0                       0   \n",
       "8                          0                       0                       0   \n",
       "9                          0                       0                       0   \n",
       "\n",
       "   ocean_proximity_NEAR BAY  ocean_proximity_NEAR OCEAN  \n",
       "0                         1                           0  \n",
       "1                         1                           0  \n",
       "2                         1                           0  \n",
       "3                         1                           0  \n",
       "4                         1                           0  \n",
       "5                         1                           0  \n",
       "6                         1                           0  \n",
       "7                         1                           0  \n",
       "8                         1                           0  \n",
       "9                         1                           0  "
      ]
     },
     "execution_count": 34,
     "metadata": {},
     "output_type": "execute_result"
    }
   ],
   "source": [
    "# One-hot encoding\n",
    "housing = pd.get_dummies(housing)\n",
    "housing.head(10)"
   ]
  },
  {
   "cell_type": "markdown",
   "metadata": {},
   "source": [
    "### 2-2) Training and Test Set Seperation\n",
    "__Scikit-Learn__ provides *train_test_split* function to split dataset into multiple subsets in various ways. "
   ]
  },
  {
   "cell_type": "code",
   "execution_count": 39,
   "metadata": {},
   "outputs": [
    {
     "name": "stdout",
     "output_type": "stream",
     "text": [
      "# of train_set : 16512, # of test_set : 4128\n",
      "# of train_set : 14, # of test_set : 14\n"
     ]
    }
   ],
   "source": [
    "# training - test seperation\n",
    "from sklearn.model_selection import train_test_split\n",
    "\n",
    "train_set, test_set = train_test_split(housing, test_size=0.2, random_state=42)\n",
    "\n",
    "print('# of train_set : %.0f, # of test_set : %.0f' %(train_set.shape[0], test_set.shape[0]))\n",
    "\n",
    "print('# of train_set : %.0f, # of test_set : %.0f' %(train_set.shape[1], test_set.shape[1]))"
   ]
  },
  {
   "cell_type": "markdown",
   "metadata": {},
   "source": [
    "### 2-3) Features and Target Value Seperation\n",
    "It’s time to prepare the data for your Machine Learning algorithms. \n",
    "\n",
    "Let’s separate training set into the features and target value to generate the model H(X). <br/>\n",
    "Also, separate test set into the features and target value to evaluate the performance of our model H(X)."
   ]
  },
  {
   "cell_type": "code",
   "execution_count": 41,
   "metadata": {},
   "outputs": [],
   "source": [
    "# feature and label seperation of training set\n",
    "train_set_features = train_set.drop('median_house_value',axis=1) \n",
    "train_set_target = train_set[\"median_house_value\"].copy()\n",
    "\n",
    "# Feature and target value Seperation of test set\n",
    "test_set_features = test_set.drop('median_house_value',axis=1)\n",
    "test_set_target = test_set[\"median_house_value\"].copy()"
   ]
  },
  {
   "cell_type": "markdown",
   "metadata": {},
   "source": [
    "## 3. Linear Regression\n",
    "generate the linear regression model by using *LinearRegression* function from __Scikit-learn__.\n",
    "\n",
    "For calculating our RMSE, *mean_square_error* function will be used from __scikit-learn__. Also, __numpy__ module will be used to use sqaure-root operation.\n",
    "\n",
    " $$RMSE = \\sqrt{\\sum{(y - \\widehat y)^2}\\over N}$$\n",
    " <br/>\n",
    " \n",
    "$y$ : actual median_house_value, $\\widehat y$ : median_house_value predicted. $N$ : total number of data<br/>"
   ]
  },
  {
   "cell_type": "code",
   "execution_count": 48,
   "metadata": {},
   "outputs": [
    {
     "name": "stdout",
     "output_type": "stream",
     "text": [
      "train_linear_RMSE : 67631.16\n",
      "test_linear_RMSE : 72337.41\n"
     ]
    }
   ],
   "source": [
    "from sklearn.linear_model import LinearRegression\n",
    "from sklearn.metrics import mean_squared_error\n",
    "import numpy as np # for a sqaure root calcuation\n",
    "\n",
    "# generate model by using training set\n",
    "lin_reg = LinearRegression()\n",
    "lin_reg.fit(train_set_features, train_set_target) \n",
    "\n",
    "# RMSE of train set\n",
    "train_predicted = lin_reg.predict(train_set_features)\n",
    "train_mse = mean_squared_error(train_set_target, train_predicted) # ERROR 의 의미 \n",
    "train_rmse = np.sqrt(train_mse)\n",
    "print('train_linear_RMSE : %.2f' %train_rmse)\n",
    "\n",
    "# RMSE of test set\n",
    "test_predicted = lin_reg.predict(test_set_features)\n",
    "test_mse = mean_squared_error(test_set_target, test_predicted)\n",
    "test_rmse = np.sqrt(test_mse)\n",
    "print('test_linear_RMSE : %.2f' %test_rmse)\n"
   ]
  },
  {
   "cell_type": "markdown",
   "metadata": {},
   "source": [
    "## 4. Ridge Regression\n",
    "__scikit-learn__ provides *Ridge* function and *cross_val_score* function to calculate a cross-validation."
   ]
  },
  {
   "cell_type": "code",
   "execution_count": 52,
   "metadata": {},
   "outputs": [
    {
     "name": "stdout",
     "output_type": "stream",
     "text": [
      "Best alpha : 0.800000\n",
      "final_ridge_RMSE : 72343.86\n"
     ]
    },
    {
     "data": {
      "image/png": "[encoded data removed]",
      "text/plain": [
       "<Figure size 432x288 with 1 Axes>"
      ]
     },
     "metadata": {},
     "output_type": "display_data"
    }
   ],
   "source": [
    "from sklearn.linear_model import Ridge\n",
    "from sklearn.model_selection import cross_val_score\n",
    "\n",
    "# a function defined to calculate the RMSE with 5-fold cross-validation.\n",
    "def mean_cv_rmse(model):\n",
    "    rmse= np.sqrt(-cross_val_score(model, train_set_features, \n",
    "                                   train_set_target, scoring=\"neg_mean_squared_error\", cv = 5))\n",
    "    return(rmse.mean())\n",
    "\n",
    "# find best alpha\n",
    "alpha_range = np.arange(0, 1.5, 0.1)\n",
    "cv_ridge = [mean_cv_rmse(Ridge(alpha = alpha_value)) for alpha_value in alpha_range]\n",
    "cv_ridge = pd.Series(cv_ridge, index=alpha_range) # 값 매핑\n",
    "ridge_best_alpha = cv_ridge.idxmin()\n",
    "print(\"Best alpha : %f\" % (ridge_best_alpha))\n",
    "\n",
    "# plot the RMSE curve according to alpha value\n",
    "fig = plt.figure()\n",
    "ax1 = fig.add_subplot(1,1,1)\n",
    "ax1.plot(alpha_range, cv_ridge)\n",
    "ax1.set_ylim(67812, 67813.2)\n",
    "y_formatter = matplotlib.ticker.ScalarFormatter(useOffset=False)\n",
    "ax1.yaxis.set_major_formatter(y_formatter)\n",
    "plt.xlabel(\"alpha\")\n",
    "plt.ylabel(\"RMSE\")\n",
    "\n",
    "# ridge regression\n",
    "model_ridge = Ridge(alpha = ridge_best_alpha)\n",
    "model_ridge.fit(train_set_features, train_set_target)\n",
    "\n",
    "# ridge RMSE\n",
    "ridge_predicted = model_ridge.predict(test_set_features)\n",
    "final_ridge_mse = mean_squared_error(test_set_target, ridge_predicted)\n",
    "final_ridge_rmse = np.sqrt(final_ridge_mse)\n",
    "print('final_ridge_RMSE : %.2f' %final_ridge_rmse)\n",
    "\n",
    "# command to hide the warning box\n",
    "import warnings\n",
    "warnings.filterwarnings(action = 'ignore')"
   ]
  },
  {
   "cell_type": "markdown",
   "metadata": {},
   "source": [
    "## 5. Lasso Regression"
   ]
  },
  {
   "cell_type": "code",
   "execution_count": 8,
   "metadata": {},
   "outputs": [
    {
     "ename": "SyntaxError",
     "evalue": "invalid syntax (<ipython-input-8-a33a425ee807>, line 31)",
     "output_type": "error",
     "traceback": [
      "\u001b[1;36m  File \u001b[1;32m\"<ipython-input-8-a33a425ee807>\"\u001b[1;36m, line \u001b[1;32m31\u001b[0m\n\u001b[1;33m    Overfitting에 대한 값을 줄이기 위해서 Ridge나 Lasso를 사영하고 있지만 해당 값에 대한 OverFitting이 이루어 지지 않았기 때문에\u001b[0m\n\u001b[1;37m                  ^\u001b[0m\n\u001b[1;31mSyntaxError\u001b[0m\u001b[1;31m:\u001b[0m invalid syntax\n"
     ]
    }
   ],
   "source": [
    "########### To do : fill in the box with your Lasso code. ###############\n",
    "\n",
    "#문제 1\n",
    "from sklearn.linear_model import Lasso\n",
    "\n",
    "# Lasso regression\n",
    "model_Lasso = Lasso(alpha = ridge_best_alpha)\n",
    "model_Lasso.fit(train_set_features, train_set_target)\n",
    "\n",
    "# Lasso RMSE\n",
    "Lasso_predicted = model_ridge.predict(test_set_features)\n",
    "final_Lasso_mse = mean_squared_error(test_set_target, ridge_predicted)\n",
    "final_Lasso_rmse = np.sqrt(final_Lasso_mse)\n",
    "print('final_Lasso_RMSE : %.2f' %final_Lasso_rmse)\n",
    "\n",
    "\n",
    "#문제 2\n",
    "# find best alpha\n",
    "alpha_range = np.arange(0, 1.5, 0.1)\n",
    "cv_ridge = [mean_cv_rmse(Lasso(alpha = alpha_value)) for alpha_value in alpha_range]\n",
    "cv_ridge = pd.Series(cv_ridge, index=alpha_range) \n",
    "ridge_best_alpha = cv_ridge.idxmin()\n",
    "print(\"Best alpha : %f\" % (ridge_best_alpha))\n",
    "\n",
    "\n",
    "#문제 3\n",
    "print('final_ridge_RMSE : %.2f' %final_ridge_rmse)\n",
    "print('final_Lasso_RMSE : %.2f' %final_Lasso_rmse)\n",
    "\n",
    "\n",
    "Overfitting에 대한 값을 줄이기 위해서 Ridge나 Lasso를 사영하고 있지만 해당 값에 대한 OverFitting이 이루어 지지 않았기 때문에 \n",
    "해당 데이터로는 값이 비슷하게 나오고 있습니다. \n",
    "\n"
   ]
  }
 ],
 "metadata": {
  "kernelspec": {
   "display_name": "Python 3",
   "language": "python",
   "name": "python3"
  },
  "nav_menu": {
   "height": "279px",
   "width": "309px"
  },
  "toc": {
   "nav_menu": {},
   "number_sections": true,
   "sideBar": true,
   "skip_h1_title": false,
   "toc_cell": false,
   "toc_position": {},
   "toc_section_display": "block",
   "toc_window_display": false
  }
 },
 "nbformat": 4,
 "nbformat_minor": 1
}
